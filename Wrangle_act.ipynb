{
 "cells": [
  {
   "cell_type": "markdown",
   "id": "fd56984f",
   "metadata": {},
   "source": [
    "# PROJET D'ANALYSE DE DONNEES WeRateDogs"
   ]
  },
  {
   "cell_type": "markdown",
   "id": "594632c5",
   "metadata": {},
   "source": [
    "# Table des matières"
   ]
  },
  {
   "cell_type": "markdown",
   "id": "3b7e26da",
   "metadata": {},
   "source": [
    "<ul>\n",
    "<li><a href=\"#intro\"/>Introduction</li>\n",
    "<li><a href=\"#chargement\"/>1. Chargement des librairies</li>\n",
    "<li><a href=\"#rassembler\"/>2. Rassembler les données</li>\n",
    "<li><a href=\"#evaluer\"/>3. Evaluattion des données</li>\n",
    "<li><a href=\"#visioprogra\"/>3.1 Evaluation visuelle et programmatique</li>\n",
    "<li><a href=\"#structure\"/>3.2 Problèmes de structures</li>\n",
    "<li><a href=\"#qualité\"/>3.3 Problèmes de qualités</li>\n",
    "<li><a href=\"#nettoyer\"/>4. Nettoyage des données</li>\n",
    "<li><a href=\"#stocker\"/>5. Stockage des données</li>\n",
    "<li><a href=\"#analyser\"/>6. Analyse et Visualisation des données</li>   \n",
    "</ul>\n"
   ]
  },
  {
   "cell_type": "markdown",
   "id": "52816876",
   "metadata": {},
   "source": [
    "<a id='intro'></a>\n",
    "## Introduction"
   ]
  },
  {
   "cell_type": "markdown",
   "id": "478085a9",
   "metadata": {},
   "source": [
    "### A propos"
   ]
  },
  {
   "cell_type": "markdown",
   "id": "6aa0125b",
   "metadata": {},
   "source": [
    "L'ensemble des données que nous allons traiter (analyser et visualiser) est l'archive de tweets de l'utilisateur de Twitter **@dog_rates**, également connu sous le nom de **WeRateDogs.** WeRateDogs est un compte Twitter qui évalue les chiens des gens avec un commentaire humoristique sur le chien. Ces notes ont presque toujours un dénominateur de 10. Mais les numérateurs presque toujours supérieur à 10. 11/10, 12/10, 13/10, etc. Pourquoi ? Parce que « ce sont les chiens de Brent ». WeRateDogs compte plus de 4 millions d'abonnés et a reçu une couverture médiatique internationale. "
   ]
  },
  {
   "cell_type": "markdown",
   "id": "e06be2b1",
   "metadata": {},
   "source": [
    "### Les données"
   ]
  },
  {
   "cell_type": "markdown",
   "id": "faf9ba6f",
   "metadata": {},
   "source": [
    "Dans le cadre de ce projet, nous travaillerons sur les trois ensembles de données suivants :"
   ]
  },
  {
   "cell_type": "markdown",
   "id": "5399a5f7",
   "metadata": {},
   "source": [
    "### A. Archives Twitter améliorées"
   ]
  },
  {
   "cell_type": "markdown",
   "id": "55fc63ca",
   "metadata": {},
   "source": [
    "Les archives Twitter de WeRateDogs contiennent des données de base sur les 5000 tweets et plus, mais par sur tout. Une colonne de l'archive contient : le texte de chaque tweet, utilisé pour extraire la note, le nom du chien et les « étapes » du chien (doggo, floofer, pupper et puppo) pour rendre cette archive Twitter « améliorée ». Les tweets avec des notes sont filtés seulement sur les 5000 tweets et plus.   "
   ]
  },
  {
   "cell_type": "markdown",
   "id": "49687135",
   "metadata": {},
   "source": [
    "### B. Fichier de prédictions d'images"
   ]
  },
  {
   "cell_type": "markdown",
   "id": "ed66fc5c",
   "metadata": {},
   "source": [
    "Chaque image de l'archive Twitter de WeRateDogs a été éxécuté par un réseau de neuronnes capable de classer les races des chiens. Les résultats : un tableau rempli de prédictions d'images avec l'ID de chaque tweet, l'URL de l'image et le numéro de l'image correspondant à la prédiction la plus sûre (numérotée de 1 à 4 puisque les tweets peuvent contenir jusqu'à quatre images)."
   ]
  },
  {
   "cell_type": "markdown",
   "id": "f5297d6d",
   "metadata": {},
   "source": [
    "### C. Données supplémentaires via l'API Twitter"
   ]
  },
  {
   "cell_type": "markdown",
   "id": "de188cff",
   "metadata": {},
   "source": [
    "Les données suppléméntaires sont collectées à partir de l'API de Twitter. Et parce que nous disposons de l'archive Twitter de WeRateDogs et plus particulièrement des ID des tweets qu'elle contient, nous pouvons collecter ces données pour les 5000 tweets et plus."
   ]
  },
  {
   "cell_type": "markdown",
   "id": "076b0242",
   "metadata": {},
   "source": [
    "<a id='chargement'></a>\n",
    "## 1. Chargement des librairies"
   ]
  },
  {
   "cell_type": "code",
   "execution_count": 105,
   "id": "30e5a06a",
   "metadata": {},
   "outputs": [],
   "source": [
    "import pandas as pd\n",
    "import numpy as np\n",
    "import matplotlib.pyplot as plt\n",
    "%matplotlib inline\n",
    "import requests"
   ]
  },
  {
   "cell_type": "markdown",
   "id": "45882504",
   "metadata": {},
   "source": [
    "<a id='rassembler'></a>\n",
    "## 2. Rassembler les données"
   ]
  },
  {
   "cell_type": "markdown",
   "id": "ed8d9c9d",
   "metadata": {},
   "source": [
    "### A. Importer Enhanced Twitter Archive"
   ]
  },
  {
   "cell_type": "code",
   "execution_count": 106,
   "id": "8d8711dd",
   "metadata": {},
   "outputs": [],
   "source": [
    "# Importation de df_twitter_archive\n",
    "df_twitter_archive = pd.read_csv('twitter-archive-enhanced.csv')"
   ]
  },
  {
   "cell_type": "markdown",
   "id": "cb5fd15e",
   "metadata": {},
   "source": [
    "### B. Importer le fichier de prédiction d'images"
   ]
  },
  {
   "cell_type": "code",
   "execution_count": 107,
   "id": "10496862",
   "metadata": {},
   "outputs": [],
   "source": [
    "# Importation de df_image_prediction\n",
    "df_image_prediction =pd.read_csv('image-predictions.tsv',sep='\\t')"
   ]
  },
  {
   "cell_type": "markdown",
   "id": "4a650cdd",
   "metadata": {},
   "source": [
    "### C. Obenir les données supplémentaires via l'API Twitter"
   ]
  },
  {
   "cell_type": "markdown",
   "id": "9f68b4d3",
   "metadata": {},
   "source": [
    "> Dans cette partie, pour des raisons de temps nous n'allons pas éxécuter ce code pour récupérer les données via l'API Twitter."
   ]
  },
  {
   "cell_type": "code",
   "execution_count": 108,
   "id": "4df3989f",
   "metadata": {},
   "outputs": [],
   "source": [
    "# import tweepy\n",
    "# from tweepy import OAuthHandler\n",
    "# import json\n",
    "# from timeit import default_timer as timer\n",
    "\n",
    "# Query Twitter API for each tweet in the Twitter archive and save JSON in a text file\n",
    "# These are hidden to comply with Twitter's API terms and conditions\n",
    "\n",
    "# consumer_key = 'xxxx'\n",
    "# consumer_secret = 'xxxx'\n",
    "# access_token = 'xxxx'\n",
    "# access_secret = 'xxxx'\n",
    "\n",
    "# auth = OAuthHandler(consumer_key, consumer_secret)\n",
    "# auth.set_access_token(access_token, access_secret)\n",
    "\n",
    "# api = tweepy.API(auth, wait_on_rate_limit=True)\n",
    "\n",
    "# NOTE TO STUDENT WITH MOBILE VERIFICATION ISSUES:\n",
    "# df_1 is a DataFrame with the twitter_archive_enhanced.csv file. You may have to\n",
    "# change line 17 to match the name of your DataFrame with twitter_archive_enhanced.csv\n",
    "# NOTE TO REVIEWER: this student had mobile verification issues so the following\n",
    "# Twitter API code was sent to this student from a Udacity instructor\n",
    "# Tweet IDs for which to gather additional data via Twitter's API\n",
    "\n",
    "# tweet_ids = df_1.tweet_id.values\n",
    "# len(tweet_ids)\n",
    "\n",
    "# Query Twitter's API for JSON data for each tweet ID in the Twitter archive\n",
    "# count = 0\n",
    "# fails_dict = {}\n",
    "# start = timer()\n",
    "\n",
    "# Save each tweet's returned JSON as a new line in a .txt file\n",
    "\n",
    "# with open('tweet_json.txt', 'w') as outfile:\n",
    "    # This loop will likely take 20-30 minutes to run because of Twitter's rate limit\n",
    "    # for tweet_id in tweet_ids:\n",
    "        # count += 1\n",
    "        # print(str(count) + \": \" + str(tweet_id))\n",
    "        # try:\n",
    "            # tweet = api.get_status(tweet_id, tweet_mode='extended')\n",
    "            # print(\"Success\")\n",
    "            # json.dump(tweet._json, outfile)\n",
    "            # outfile.write('\\n')\n",
    "        # except tweepy.errors.HTTPException as e:\n",
    "            # print(\"Fail\")\n",
    "            # fails_dict[tweet_id] = e\n",
    "            # pass\n",
    "# end = timer()\n",
    "# print(end - start)\n",
    "# print(fails_dict)"
   ]
  },
  {
   "cell_type": "code",
   "execution_count": 109,
   "id": "f9e373c3",
   "metadata": {},
   "outputs": [],
   "source": [
    "# Importation de df_tweet_json\n",
    "df_tweet_json = pd.read_json('tweet-json.txt', encoding = \"utf8\", lines = True)"
   ]
  },
  {
   "cell_type": "code",
   "execution_count": 110,
   "id": "9e7022ab",
   "metadata": {},
   "outputs": [
    {
     "data": {
      "text/plain": [
       "Index(['created_at', 'id', 'id_str', 'full_text', 'truncated',\n",
       "       'display_text_range', 'entities', 'extended_entities', 'source',\n",
       "       'in_reply_to_status_id', 'in_reply_to_status_id_str',\n",
       "       'in_reply_to_user_id', 'in_reply_to_user_id_str',\n",
       "       'in_reply_to_screen_name', 'user', 'geo', 'coordinates', 'place',\n",
       "       'contributors', 'is_quote_status', 'retweet_count', 'favorite_count',\n",
       "       'favorited', 'retweeted', 'possibly_sensitive',\n",
       "       'possibly_sensitive_appealable', 'lang', 'retweeted_status',\n",
       "       'quoted_status_id', 'quoted_status_id_str', 'quoted_status'],\n",
       "      dtype='object')"
      ]
     },
     "execution_count": 110,
     "metadata": {},
     "output_type": "execute_result"
    }
   ],
   "source": [
    "# Différentes colonnes de df_tweet_json\n",
    "df_tweet_json.columns"
   ]
  },
  {
   "cell_type": "code",
   "execution_count": 111,
   "id": "54753d2e",
   "metadata": {},
   "outputs": [],
   "source": [
    "# Créer un dataframe à partir de df_tweet_json contenant id, retweet_count et favorite_count\n",
    "df_tweet = pd.DataFrame(df_tweet_json, columns = ['id',\n",
    "                                                 'retweet_count',\n",
    "                                                 'favorite_count'])"
   ]
  },
  {
   "cell_type": "code",
   "execution_count": 113,
   "id": "922dd559",
   "metadata": {},
   "outputs": [
    {
     "data": {
      "text/html": [
       "<div>\n",
       "<style scoped>\n",
       "    .dataframe tbody tr th:only-of-type {\n",
       "        vertical-align: middle;\n",
       "    }\n",
       "\n",
       "    .dataframe tbody tr th {\n",
       "        vertical-align: top;\n",
       "    }\n",
       "\n",
       "    .dataframe thead th {\n",
       "        text-align: right;\n",
       "    }\n",
       "</style>\n",
       "<table border=\"1\" class=\"dataframe\">\n",
       "  <thead>\n",
       "    <tr style=\"text-align: right;\">\n",
       "      <th></th>\n",
       "      <th>id</th>\n",
       "      <th>retweet_count</th>\n",
       "      <th>favorite_count</th>\n",
       "    </tr>\n",
       "  </thead>\n",
       "  <tbody>\n",
       "    <tr>\n",
       "      <th>0</th>\n",
       "      <td>892420643555336193</td>\n",
       "      <td>8853</td>\n",
       "      <td>39467</td>\n",
       "    </tr>\n",
       "    <tr>\n",
       "      <th>1</th>\n",
       "      <td>892177421306343426</td>\n",
       "      <td>6514</td>\n",
       "      <td>33819</td>\n",
       "    </tr>\n",
       "    <tr>\n",
       "      <th>2</th>\n",
       "      <td>891815181378084864</td>\n",
       "      <td>4328</td>\n",
       "      <td>25461</td>\n",
       "    </tr>\n",
       "    <tr>\n",
       "      <th>3</th>\n",
       "      <td>891689557279858688</td>\n",
       "      <td>8964</td>\n",
       "      <td>42908</td>\n",
       "    </tr>\n",
       "    <tr>\n",
       "      <th>4</th>\n",
       "      <td>891327558926688256</td>\n",
       "      <td>9774</td>\n",
       "      <td>41048</td>\n",
       "    </tr>\n",
       "  </tbody>\n",
       "</table>\n",
       "</div>"
      ],
      "text/plain": [
       "                   id  retweet_count  favorite_count\n",
       "0  892420643555336193           8853           39467\n",
       "1  892177421306343426           6514           33819\n",
       "2  891815181378084864           4328           25461\n",
       "3  891689557279858688           8964           42908\n",
       "4  891327558926688256           9774           41048"
      ]
     },
     "execution_count": 113,
     "metadata": {},
     "output_type": "execute_result"
    }
   ],
   "source": [
    "# Afficher les 05 premières observations de df_weet\n",
    "df_tweet.head()"
   ]
  },
  {
   "cell_type": "code",
   "execution_count": 114,
   "id": "3e3435a1",
   "metadata": {},
   "outputs": [
    {
     "data": {
      "text/html": [
       "<div>\n",
       "<style scoped>\n",
       "    .dataframe tbody tr th:only-of-type {\n",
       "        vertical-align: middle;\n",
       "    }\n",
       "\n",
       "    .dataframe tbody tr th {\n",
       "        vertical-align: top;\n",
       "    }\n",
       "\n",
       "    .dataframe thead th {\n",
       "        text-align: right;\n",
       "    }\n",
       "</style>\n",
       "<table border=\"1\" class=\"dataframe\">\n",
       "  <thead>\n",
       "    <tr style=\"text-align: right;\">\n",
       "      <th></th>\n",
       "      <th>tweet_id</th>\n",
       "      <th>retweet_count</th>\n",
       "      <th>favorite_count</th>\n",
       "    </tr>\n",
       "  </thead>\n",
       "  <tbody>\n",
       "    <tr>\n",
       "      <th>0</th>\n",
       "      <td>892420643555336193</td>\n",
       "      <td>8853</td>\n",
       "      <td>39467</td>\n",
       "    </tr>\n",
       "    <tr>\n",
       "      <th>1</th>\n",
       "      <td>892177421306343426</td>\n",
       "      <td>6514</td>\n",
       "      <td>33819</td>\n",
       "    </tr>\n",
       "    <tr>\n",
       "      <th>2</th>\n",
       "      <td>891815181378084864</td>\n",
       "      <td>4328</td>\n",
       "      <td>25461</td>\n",
       "    </tr>\n",
       "    <tr>\n",
       "      <th>3</th>\n",
       "      <td>891689557279858688</td>\n",
       "      <td>8964</td>\n",
       "      <td>42908</td>\n",
       "    </tr>\n",
       "    <tr>\n",
       "      <th>4</th>\n",
       "      <td>891327558926688256</td>\n",
       "      <td>9774</td>\n",
       "      <td>41048</td>\n",
       "    </tr>\n",
       "  </tbody>\n",
       "</table>\n",
       "</div>"
      ],
      "text/plain": [
       "             tweet_id  retweet_count  favorite_count\n",
       "0  892420643555336193           8853           39467\n",
       "1  892177421306343426           6514           33819\n",
       "2  891815181378084864           4328           25461\n",
       "3  891689557279858688           8964           42908\n",
       "4  891327558926688256           9774           41048"
      ]
     },
     "execution_count": 114,
     "metadata": {},
     "output_type": "execute_result"
    }
   ],
   "source": [
    "# Changer id de df_tweet par tweet_id\n",
    "df_tweet = df_tweet.rename(columns = {'id':'tweet_id'})\n",
    "df_tweet.head()"
   ]
  },
  {
   "cell_type": "code",
   "execution_count": 115,
   "id": "ccc19a9e",
   "metadata": {},
   "outputs": [],
   "source": [
    "# Sauvegarder df_tweet sous un format csv\n",
    "df_tweet.to_csv('df_tweet.csv', index = False)"
   ]
  },
  {
   "cell_type": "code",
   "execution_count": 116,
   "id": "81842d97",
   "metadata": {},
   "outputs": [
    {
     "data": {
      "text/html": [
       "<div>\n",
       "<style scoped>\n",
       "    .dataframe tbody tr th:only-of-type {\n",
       "        vertical-align: middle;\n",
       "    }\n",
       "\n",
       "    .dataframe tbody tr th {\n",
       "        vertical-align: top;\n",
       "    }\n",
       "\n",
       "    .dataframe thead th {\n",
       "        text-align: right;\n",
       "    }\n",
       "</style>\n",
       "<table border=\"1\" class=\"dataframe\">\n",
       "  <thead>\n",
       "    <tr style=\"text-align: right;\">\n",
       "      <th></th>\n",
       "      <th>tweet_id</th>\n",
       "      <th>retweet_count</th>\n",
       "      <th>favorite_count</th>\n",
       "    </tr>\n",
       "  </thead>\n",
       "  <tbody>\n",
       "    <tr>\n",
       "      <th>0</th>\n",
       "      <td>892420643555336193</td>\n",
       "      <td>8853</td>\n",
       "      <td>39467</td>\n",
       "    </tr>\n",
       "    <tr>\n",
       "      <th>1</th>\n",
       "      <td>892177421306343426</td>\n",
       "      <td>6514</td>\n",
       "      <td>33819</td>\n",
       "    </tr>\n",
       "    <tr>\n",
       "      <th>2</th>\n",
       "      <td>891815181378084864</td>\n",
       "      <td>4328</td>\n",
       "      <td>25461</td>\n",
       "    </tr>\n",
       "    <tr>\n",
       "      <th>3</th>\n",
       "      <td>891689557279858688</td>\n",
       "      <td>8964</td>\n",
       "      <td>42908</td>\n",
       "    </tr>\n",
       "    <tr>\n",
       "      <th>4</th>\n",
       "      <td>891327558926688256</td>\n",
       "      <td>9774</td>\n",
       "      <td>41048</td>\n",
       "    </tr>\n",
       "  </tbody>\n",
       "</table>\n",
       "</div>"
      ],
      "text/plain": [
       "             tweet_id  retweet_count  favorite_count\n",
       "0  892420643555336193           8853           39467\n",
       "1  892177421306343426           6514           33819\n",
       "2  891815181378084864           4328           25461\n",
       "3  891689557279858688           8964           42908\n",
       "4  891327558926688256           9774           41048"
      ]
     },
     "execution_count": 116,
     "metadata": {},
     "output_type": "execute_result"
    }
   ],
   "source": [
    "# Vérifier si le fichier est bien enrégistrer sous format csv\n",
    "df_tweet_data = pd.read_csv('df_tweet.csv')\n",
    "df_tweet_data.head()"
   ]
  },
  {
   "cell_type": "markdown",
   "id": "7be7b5b9",
   "metadata": {},
   "source": [
    "<a id='evaluer'></a>\n",
    "## 3. Evaluation des données"
   ]
  },
  {
   "cell_type": "markdown",
   "id": "02333074",
   "metadata": {},
   "source": [
    "<a id='visioprogra'></a>\n",
    "### 3.1 Evaluation visuelle et programmatique"
   ]
  },
  {
   "cell_type": "markdown",
   "id": "0f8375ac",
   "metadata": {},
   "source": [
    "**L'évaluation visuelle** consiste à examiner un tableau de données dans un Jupyter notebook ou une feuille de calcul."
   ]
  },
  {
   "cell_type": "markdown",
   "id": "2259fdd2",
   "metadata": {},
   "source": [
    "**L'évaluation programmatique** utilise des fonctions et des méthodes pour révéler la qualité et la propreté de nos données."
   ]
  },
  {
   "cell_type": "markdown",
   "id": "ba9e6b53",
   "metadata": {},
   "source": [
    "### A. Evaluation des données des Archives de Twitter Améliorées"
   ]
  },
  {
   "cell_type": "code",
   "execution_count": 117,
   "id": "fcc46b13",
   "metadata": {},
   "outputs": [
    {
     "data": {
      "text/html": [
       "<div>\n",
       "<style scoped>\n",
       "    .dataframe tbody tr th:only-of-type {\n",
       "        vertical-align: middle;\n",
       "    }\n",
       "\n",
       "    .dataframe tbody tr th {\n",
       "        vertical-align: top;\n",
       "    }\n",
       "\n",
       "    .dataframe thead th {\n",
       "        text-align: right;\n",
       "    }\n",
       "</style>\n",
       "<table border=\"1\" class=\"dataframe\">\n",
       "  <thead>\n",
       "    <tr style=\"text-align: right;\">\n",
       "      <th></th>\n",
       "      <th>tweet_id</th>\n",
       "      <th>in_reply_to_status_id</th>\n",
       "      <th>in_reply_to_user_id</th>\n",
       "      <th>timestamp</th>\n",
       "      <th>source</th>\n",
       "      <th>text</th>\n",
       "      <th>retweeted_status_id</th>\n",
       "      <th>retweeted_status_user_id</th>\n",
       "      <th>retweeted_status_timestamp</th>\n",
       "      <th>expanded_urls</th>\n",
       "      <th>rating_numerator</th>\n",
       "      <th>rating_denominator</th>\n",
       "      <th>name</th>\n",
       "      <th>doggo</th>\n",
       "      <th>floofer</th>\n",
       "      <th>pupper</th>\n",
       "      <th>puppo</th>\n",
       "    </tr>\n",
       "  </thead>\n",
       "  <tbody>\n",
       "    <tr>\n",
       "      <th>0</th>\n",
       "      <td>892420643555336193</td>\n",
       "      <td>NaN</td>\n",
       "      <td>NaN</td>\n",
       "      <td>2017-08-01 16:23:56 +0000</td>\n",
       "      <td>&lt;a href=\"http://twitter.com/download/iphone\" r...</td>\n",
       "      <td>This is Phineas. He's a mystical boy. Only eve...</td>\n",
       "      <td>NaN</td>\n",
       "      <td>NaN</td>\n",
       "      <td>NaN</td>\n",
       "      <td>https://twitter.com/dog_rates/status/892420643...</td>\n",
       "      <td>13</td>\n",
       "      <td>10</td>\n",
       "      <td>Phineas</td>\n",
       "      <td>None</td>\n",
       "      <td>None</td>\n",
       "      <td>None</td>\n",
       "      <td>None</td>\n",
       "    </tr>\n",
       "    <tr>\n",
       "      <th>1</th>\n",
       "      <td>892177421306343426</td>\n",
       "      <td>NaN</td>\n",
       "      <td>NaN</td>\n",
       "      <td>2017-08-01 00:17:27 +0000</td>\n",
       "      <td>&lt;a href=\"http://twitter.com/download/iphone\" r...</td>\n",
       "      <td>This is Tilly. She's just checking pup on you....</td>\n",
       "      <td>NaN</td>\n",
       "      <td>NaN</td>\n",
       "      <td>NaN</td>\n",
       "      <td>https://twitter.com/dog_rates/status/892177421...</td>\n",
       "      <td>13</td>\n",
       "      <td>10</td>\n",
       "      <td>Tilly</td>\n",
       "      <td>None</td>\n",
       "      <td>None</td>\n",
       "      <td>None</td>\n",
       "      <td>None</td>\n",
       "    </tr>\n",
       "    <tr>\n",
       "      <th>2</th>\n",
       "      <td>891815181378084864</td>\n",
       "      <td>NaN</td>\n",
       "      <td>NaN</td>\n",
       "      <td>2017-07-31 00:18:03 +0000</td>\n",
       "      <td>&lt;a href=\"http://twitter.com/download/iphone\" r...</td>\n",
       "      <td>This is Archie. He is a rare Norwegian Pouncin...</td>\n",
       "      <td>NaN</td>\n",
       "      <td>NaN</td>\n",
       "      <td>NaN</td>\n",
       "      <td>https://twitter.com/dog_rates/status/891815181...</td>\n",
       "      <td>12</td>\n",
       "      <td>10</td>\n",
       "      <td>Archie</td>\n",
       "      <td>None</td>\n",
       "      <td>None</td>\n",
       "      <td>None</td>\n",
       "      <td>None</td>\n",
       "    </tr>\n",
       "    <tr>\n",
       "      <th>3</th>\n",
       "      <td>891689557279858688</td>\n",
       "      <td>NaN</td>\n",
       "      <td>NaN</td>\n",
       "      <td>2017-07-30 15:58:51 +0000</td>\n",
       "      <td>&lt;a href=\"http://twitter.com/download/iphone\" r...</td>\n",
       "      <td>This is Darla. She commenced a snooze mid meal...</td>\n",
       "      <td>NaN</td>\n",
       "      <td>NaN</td>\n",
       "      <td>NaN</td>\n",
       "      <td>https://twitter.com/dog_rates/status/891689557...</td>\n",
       "      <td>13</td>\n",
       "      <td>10</td>\n",
       "      <td>Darla</td>\n",
       "      <td>None</td>\n",
       "      <td>None</td>\n",
       "      <td>None</td>\n",
       "      <td>None</td>\n",
       "    </tr>\n",
       "    <tr>\n",
       "      <th>4</th>\n",
       "      <td>891327558926688256</td>\n",
       "      <td>NaN</td>\n",
       "      <td>NaN</td>\n",
       "      <td>2017-07-29 16:00:24 +0000</td>\n",
       "      <td>&lt;a href=\"http://twitter.com/download/iphone\" r...</td>\n",
       "      <td>This is Franklin. He would like you to stop ca...</td>\n",
       "      <td>NaN</td>\n",
       "      <td>NaN</td>\n",
       "      <td>NaN</td>\n",
       "      <td>https://twitter.com/dog_rates/status/891327558...</td>\n",
       "      <td>12</td>\n",
       "      <td>10</td>\n",
       "      <td>Franklin</td>\n",
       "      <td>None</td>\n",
       "      <td>None</td>\n",
       "      <td>None</td>\n",
       "      <td>None</td>\n",
       "    </tr>\n",
       "  </tbody>\n",
       "</table>\n",
       "</div>"
      ],
      "text/plain": [
       "             tweet_id  in_reply_to_status_id  in_reply_to_user_id  \\\n",
       "0  892420643555336193                    NaN                  NaN   \n",
       "1  892177421306343426                    NaN                  NaN   \n",
       "2  891815181378084864                    NaN                  NaN   \n",
       "3  891689557279858688                    NaN                  NaN   \n",
       "4  891327558926688256                    NaN                  NaN   \n",
       "\n",
       "                   timestamp  \\\n",
       "0  2017-08-01 16:23:56 +0000   \n",
       "1  2017-08-01 00:17:27 +0000   \n",
       "2  2017-07-31 00:18:03 +0000   \n",
       "3  2017-07-30 15:58:51 +0000   \n",
       "4  2017-07-29 16:00:24 +0000   \n",
       "\n",
       "                                              source  \\\n",
       "0  <a href=\"http://twitter.com/download/iphone\" r...   \n",
       "1  <a href=\"http://twitter.com/download/iphone\" r...   \n",
       "2  <a href=\"http://twitter.com/download/iphone\" r...   \n",
       "3  <a href=\"http://twitter.com/download/iphone\" r...   \n",
       "4  <a href=\"http://twitter.com/download/iphone\" r...   \n",
       "\n",
       "                                                text  retweeted_status_id  \\\n",
       "0  This is Phineas. He's a mystical boy. Only eve...                  NaN   \n",
       "1  This is Tilly. She's just checking pup on you....                  NaN   \n",
       "2  This is Archie. He is a rare Norwegian Pouncin...                  NaN   \n",
       "3  This is Darla. She commenced a snooze mid meal...                  NaN   \n",
       "4  This is Franklin. He would like you to stop ca...                  NaN   \n",
       "\n",
       "   retweeted_status_user_id retweeted_status_timestamp  \\\n",
       "0                       NaN                        NaN   \n",
       "1                       NaN                        NaN   \n",
       "2                       NaN                        NaN   \n",
       "3                       NaN                        NaN   \n",
       "4                       NaN                        NaN   \n",
       "\n",
       "                                       expanded_urls  rating_numerator  \\\n",
       "0  https://twitter.com/dog_rates/status/892420643...                13   \n",
       "1  https://twitter.com/dog_rates/status/892177421...                13   \n",
       "2  https://twitter.com/dog_rates/status/891815181...                12   \n",
       "3  https://twitter.com/dog_rates/status/891689557...                13   \n",
       "4  https://twitter.com/dog_rates/status/891327558...                12   \n",
       "\n",
       "   rating_denominator      name doggo floofer pupper puppo  \n",
       "0                  10   Phineas  None    None   None  None  \n",
       "1                  10     Tilly  None    None   None  None  \n",
       "2                  10    Archie  None    None   None  None  \n",
       "3                  10     Darla  None    None   None  None  \n",
       "4                  10  Franklin  None    None   None  None  "
      ]
     },
     "execution_count": 117,
     "metadata": {},
     "output_type": "execute_result"
    }
   ],
   "source": [
    "# Observer les cinq (05) premières observations de df_twitter_archive\n",
    "df_twitter_archive.head()"
   ]
  },
  {
   "cell_type": "code",
   "execution_count": 118,
   "id": "7475e750",
   "metadata": {},
   "outputs": [
    {
     "data": {
      "text/html": [
       "<div>\n",
       "<style scoped>\n",
       "    .dataframe tbody tr th:only-of-type {\n",
       "        vertical-align: middle;\n",
       "    }\n",
       "\n",
       "    .dataframe tbody tr th {\n",
       "        vertical-align: top;\n",
       "    }\n",
       "\n",
       "    .dataframe thead th {\n",
       "        text-align: right;\n",
       "    }\n",
       "</style>\n",
       "<table border=\"1\" class=\"dataframe\">\n",
       "  <thead>\n",
       "    <tr style=\"text-align: right;\">\n",
       "      <th></th>\n",
       "      <th>tweet_id</th>\n",
       "      <th>in_reply_to_status_id</th>\n",
       "      <th>in_reply_to_user_id</th>\n",
       "      <th>timestamp</th>\n",
       "      <th>source</th>\n",
       "      <th>text</th>\n",
       "      <th>retweeted_status_id</th>\n",
       "      <th>retweeted_status_user_id</th>\n",
       "      <th>retweeted_status_timestamp</th>\n",
       "      <th>expanded_urls</th>\n",
       "      <th>rating_numerator</th>\n",
       "      <th>rating_denominator</th>\n",
       "      <th>name</th>\n",
       "      <th>doggo</th>\n",
       "      <th>floofer</th>\n",
       "      <th>pupper</th>\n",
       "      <th>puppo</th>\n",
       "    </tr>\n",
       "  </thead>\n",
       "  <tbody>\n",
       "    <tr>\n",
       "      <th>315</th>\n",
       "      <td>835152434251116546</td>\n",
       "      <td>NaN</td>\n",
       "      <td>NaN</td>\n",
       "      <td>2017-02-24 15:40:31 +0000</td>\n",
       "      <td>&lt;a href=\"http://twitter.com/download/iphone\" r...</td>\n",
       "      <td>When you're so blinded by your systematic plag...</td>\n",
       "      <td>NaN</td>\n",
       "      <td>NaN</td>\n",
       "      <td>NaN</td>\n",
       "      <td>https://twitter.com/dog_rates/status/835152434...</td>\n",
       "      <td>0</td>\n",
       "      <td>10</td>\n",
       "      <td>None</td>\n",
       "      <td>None</td>\n",
       "      <td>None</td>\n",
       "      <td>None</td>\n",
       "      <td>None</td>\n",
       "    </tr>\n",
       "    <tr>\n",
       "      <th>485</th>\n",
       "      <td>814578408554463233</td>\n",
       "      <td>NaN</td>\n",
       "      <td>NaN</td>\n",
       "      <td>2016-12-29 21:06:41 +0000</td>\n",
       "      <td>&lt;a href=\"http://twitter.com/download/iphone\" r...</td>\n",
       "      <td>RT @dog_rates: Meet Beau &amp;amp; Wilbur. Wilbur ...</td>\n",
       "      <td>6.981954e+17</td>\n",
       "      <td>4.196984e+09</td>\n",
       "      <td>2016-02-12 17:22:12 +0000</td>\n",
       "      <td>https://twitter.com/dog_rates/status/698195409...</td>\n",
       "      <td>9</td>\n",
       "      <td>10</td>\n",
       "      <td>Beau</td>\n",
       "      <td>None</td>\n",
       "      <td>None</td>\n",
       "      <td>None</td>\n",
       "      <td>None</td>\n",
       "    </tr>\n",
       "    <tr>\n",
       "      <th>562</th>\n",
       "      <td>802600418706604034</td>\n",
       "      <td>NaN</td>\n",
       "      <td>NaN</td>\n",
       "      <td>2016-11-26 19:50:26 +0000</td>\n",
       "      <td>&lt;a href=\"http://vine.co\" rel=\"nofollow\"&gt;Vine -...</td>\n",
       "      <td>This is Bailey. She has mastered the head tilt...</td>\n",
       "      <td>NaN</td>\n",
       "      <td>NaN</td>\n",
       "      <td>NaN</td>\n",
       "      <td>https://vine.co/v/5FwUWjYaW0Y</td>\n",
       "      <td>11</td>\n",
       "      <td>10</td>\n",
       "      <td>Bailey</td>\n",
       "      <td>None</td>\n",
       "      <td>None</td>\n",
       "      <td>None</td>\n",
       "      <td>None</td>\n",
       "    </tr>\n",
       "    <tr>\n",
       "      <th>2342</th>\n",
       "      <td>666082916733198337</td>\n",
       "      <td>NaN</td>\n",
       "      <td>NaN</td>\n",
       "      <td>2015-11-16 02:38:37 +0000</td>\n",
       "      <td>&lt;a href=\"http://twitter.com/download/iphone\" r...</td>\n",
       "      <td>Here we have a well-established sunblockerspan...</td>\n",
       "      <td>NaN</td>\n",
       "      <td>NaN</td>\n",
       "      <td>NaN</td>\n",
       "      <td>https://twitter.com/dog_rates/status/666082916...</td>\n",
       "      <td>6</td>\n",
       "      <td>10</td>\n",
       "      <td>None</td>\n",
       "      <td>None</td>\n",
       "      <td>None</td>\n",
       "      <td>None</td>\n",
       "      <td>None</td>\n",
       "    </tr>\n",
       "    <tr>\n",
       "      <th>40</th>\n",
       "      <td>884562892145688576</td>\n",
       "      <td>NaN</td>\n",
       "      <td>NaN</td>\n",
       "      <td>2017-07-11 00:00:02 +0000</td>\n",
       "      <td>&lt;a href=\"http://twitter.com/download/iphone\" r...</td>\n",
       "      <td>This is Kevin. He's just so happy. 13/10 what ...</td>\n",
       "      <td>NaN</td>\n",
       "      <td>NaN</td>\n",
       "      <td>NaN</td>\n",
       "      <td>https://twitter.com/dog_rates/status/884562892...</td>\n",
       "      <td>13</td>\n",
       "      <td>10</td>\n",
       "      <td>Kevin</td>\n",
       "      <td>None</td>\n",
       "      <td>None</td>\n",
       "      <td>None</td>\n",
       "      <td>None</td>\n",
       "    </tr>\n",
       "    <tr>\n",
       "      <th>811</th>\n",
       "      <td>771171053431250945</td>\n",
       "      <td>NaN</td>\n",
       "      <td>NaN</td>\n",
       "      <td>2016-09-01 02:21:21 +0000</td>\n",
       "      <td>&lt;a href=\"http://twitter.com/download/iphone\" r...</td>\n",
       "      <td>RT @dog_rates: This is Frankie. He's wearing b...</td>\n",
       "      <td>6.733201e+17</td>\n",
       "      <td>4.196984e+09</td>\n",
       "      <td>2015-12-06 01:56:44 +0000</td>\n",
       "      <td>https://twitter.com/dog_rates/status/673320132...</td>\n",
       "      <td>11</td>\n",
       "      <td>10</td>\n",
       "      <td>Frankie</td>\n",
       "      <td>None</td>\n",
       "      <td>None</td>\n",
       "      <td>None</td>\n",
       "      <td>None</td>\n",
       "    </tr>\n",
       "    <tr>\n",
       "      <th>1886</th>\n",
       "      <td>674790488185167872</td>\n",
       "      <td>NaN</td>\n",
       "      <td>NaN</td>\n",
       "      <td>2015-12-10 03:19:24 +0000</td>\n",
       "      <td>&lt;a href=\"http://twitter.com/download/iphone\" r...</td>\n",
       "      <td>ER... MER... GERD 13/10 https://t.co/L1puJISV1a</td>\n",
       "      <td>NaN</td>\n",
       "      <td>NaN</td>\n",
       "      <td>NaN</td>\n",
       "      <td>https://twitter.com/dog_rates/status/674790488...</td>\n",
       "      <td>13</td>\n",
       "      <td>10</td>\n",
       "      <td>None</td>\n",
       "      <td>None</td>\n",
       "      <td>None</td>\n",
       "      <td>None</td>\n",
       "      <td>None</td>\n",
       "    </tr>\n",
       "    <tr>\n",
       "      <th>1637</th>\n",
       "      <td>684195085588783105</td>\n",
       "      <td>NaN</td>\n",
       "      <td>NaN</td>\n",
       "      <td>2016-01-05 02:09:54 +0000</td>\n",
       "      <td>&lt;a href=\"http://twitter.com/download/iphone\" r...</td>\n",
       "      <td>This is Tino. He really likes corndogs. 9/10 h...</td>\n",
       "      <td>NaN</td>\n",
       "      <td>NaN</td>\n",
       "      <td>NaN</td>\n",
       "      <td>https://twitter.com/dog_rates/status/684195085...</td>\n",
       "      <td>9</td>\n",
       "      <td>10</td>\n",
       "      <td>Tino</td>\n",
       "      <td>None</td>\n",
       "      <td>None</td>\n",
       "      <td>None</td>\n",
       "      <td>None</td>\n",
       "    </tr>\n",
       "    <tr>\n",
       "      <th>2336</th>\n",
       "      <td>666273097616637952</td>\n",
       "      <td>NaN</td>\n",
       "      <td>NaN</td>\n",
       "      <td>2015-11-16 15:14:19 +0000</td>\n",
       "      <td>&lt;a href=\"http://twitter.com/download/iphone\" r...</td>\n",
       "      <td>Can take selfies 11/10 https://t.co/ws2AMaNwPW</td>\n",
       "      <td>NaN</td>\n",
       "      <td>NaN</td>\n",
       "      <td>NaN</td>\n",
       "      <td>https://twitter.com/dog_rates/status/666273097...</td>\n",
       "      <td>11</td>\n",
       "      <td>10</td>\n",
       "      <td>None</td>\n",
       "      <td>None</td>\n",
       "      <td>None</td>\n",
       "      <td>None</td>\n",
       "      <td>None</td>\n",
       "    </tr>\n",
       "    <tr>\n",
       "      <th>2290</th>\n",
       "      <td>667171260800061440</td>\n",
       "      <td>NaN</td>\n",
       "      <td>NaN</td>\n",
       "      <td>2015-11-19 02:43:18 +0000</td>\n",
       "      <td>&lt;a href=\"http://twitter.com/download/iphone\" r...</td>\n",
       "      <td>Say hello to Kenneth. He likes Reese's Puffs. ...</td>\n",
       "      <td>NaN</td>\n",
       "      <td>NaN</td>\n",
       "      <td>NaN</td>\n",
       "      <td>https://twitter.com/dog_rates/status/667171260...</td>\n",
       "      <td>10</td>\n",
       "      <td>10</td>\n",
       "      <td>Kenneth</td>\n",
       "      <td>None</td>\n",
       "      <td>None</td>\n",
       "      <td>None</td>\n",
       "      <td>None</td>\n",
       "    </tr>\n",
       "  </tbody>\n",
       "</table>\n",
       "</div>"
      ],
      "text/plain": [
       "                tweet_id  in_reply_to_status_id  in_reply_to_user_id  \\\n",
       "315   835152434251116546                    NaN                  NaN   \n",
       "485   814578408554463233                    NaN                  NaN   \n",
       "562   802600418706604034                    NaN                  NaN   \n",
       "2342  666082916733198337                    NaN                  NaN   \n",
       "40    884562892145688576                    NaN                  NaN   \n",
       "811   771171053431250945                    NaN                  NaN   \n",
       "1886  674790488185167872                    NaN                  NaN   \n",
       "1637  684195085588783105                    NaN                  NaN   \n",
       "2336  666273097616637952                    NaN                  NaN   \n",
       "2290  667171260800061440                    NaN                  NaN   \n",
       "\n",
       "                      timestamp  \\\n",
       "315   2017-02-24 15:40:31 +0000   \n",
       "485   2016-12-29 21:06:41 +0000   \n",
       "562   2016-11-26 19:50:26 +0000   \n",
       "2342  2015-11-16 02:38:37 +0000   \n",
       "40    2017-07-11 00:00:02 +0000   \n",
       "811   2016-09-01 02:21:21 +0000   \n",
       "1886  2015-12-10 03:19:24 +0000   \n",
       "1637  2016-01-05 02:09:54 +0000   \n",
       "2336  2015-11-16 15:14:19 +0000   \n",
       "2290  2015-11-19 02:43:18 +0000   \n",
       "\n",
       "                                                 source  \\\n",
       "315   <a href=\"http://twitter.com/download/iphone\" r...   \n",
       "485   <a href=\"http://twitter.com/download/iphone\" r...   \n",
       "562   <a href=\"http://vine.co\" rel=\"nofollow\">Vine -...   \n",
       "2342  <a href=\"http://twitter.com/download/iphone\" r...   \n",
       "40    <a href=\"http://twitter.com/download/iphone\" r...   \n",
       "811   <a href=\"http://twitter.com/download/iphone\" r...   \n",
       "1886  <a href=\"http://twitter.com/download/iphone\" r...   \n",
       "1637  <a href=\"http://twitter.com/download/iphone\" r...   \n",
       "2336  <a href=\"http://twitter.com/download/iphone\" r...   \n",
       "2290  <a href=\"http://twitter.com/download/iphone\" r...   \n",
       "\n",
       "                                                   text  retweeted_status_id  \\\n",
       "315   When you're so blinded by your systematic plag...                  NaN   \n",
       "485   RT @dog_rates: Meet Beau &amp; Wilbur. Wilbur ...         6.981954e+17   \n",
       "562   This is Bailey. She has mastered the head tilt...                  NaN   \n",
       "2342  Here we have a well-established sunblockerspan...                  NaN   \n",
       "40    This is Kevin. He's just so happy. 13/10 what ...                  NaN   \n",
       "811   RT @dog_rates: This is Frankie. He's wearing b...         6.733201e+17   \n",
       "1886    ER... MER... GERD 13/10 https://t.co/L1puJISV1a                  NaN   \n",
       "1637  This is Tino. He really likes corndogs. 9/10 h...                  NaN   \n",
       "2336     Can take selfies 11/10 https://t.co/ws2AMaNwPW                  NaN   \n",
       "2290  Say hello to Kenneth. He likes Reese's Puffs. ...                  NaN   \n",
       "\n",
       "      retweeted_status_user_id retweeted_status_timestamp  \\\n",
       "315                        NaN                        NaN   \n",
       "485               4.196984e+09  2016-02-12 17:22:12 +0000   \n",
       "562                        NaN                        NaN   \n",
       "2342                       NaN                        NaN   \n",
       "40                         NaN                        NaN   \n",
       "811               4.196984e+09  2015-12-06 01:56:44 +0000   \n",
       "1886                       NaN                        NaN   \n",
       "1637                       NaN                        NaN   \n",
       "2336                       NaN                        NaN   \n",
       "2290                       NaN                        NaN   \n",
       "\n",
       "                                          expanded_urls  rating_numerator  \\\n",
       "315   https://twitter.com/dog_rates/status/835152434...                 0   \n",
       "485   https://twitter.com/dog_rates/status/698195409...                 9   \n",
       "562                       https://vine.co/v/5FwUWjYaW0Y                11   \n",
       "2342  https://twitter.com/dog_rates/status/666082916...                 6   \n",
       "40    https://twitter.com/dog_rates/status/884562892...                13   \n",
       "811   https://twitter.com/dog_rates/status/673320132...                11   \n",
       "1886  https://twitter.com/dog_rates/status/674790488...                13   \n",
       "1637  https://twitter.com/dog_rates/status/684195085...                 9   \n",
       "2336  https://twitter.com/dog_rates/status/666273097...                11   \n",
       "2290  https://twitter.com/dog_rates/status/667171260...                10   \n",
       "\n",
       "      rating_denominator     name doggo floofer pupper puppo  \n",
       "315                   10     None  None    None   None  None  \n",
       "485                   10     Beau  None    None   None  None  \n",
       "562                   10   Bailey  None    None   None  None  \n",
       "2342                  10     None  None    None   None  None  \n",
       "40                    10    Kevin  None    None   None  None  \n",
       "811                   10  Frankie  None    None   None  None  \n",
       "1886                  10     None  None    None   None  None  \n",
       "1637                  10     Tino  None    None   None  None  \n",
       "2336                  10     None  None    None   None  None  \n",
       "2290                  10  Kenneth  None    None   None  None  "
      ]
     },
     "execution_count": 118,
     "metadata": {},
     "output_type": "execute_result"
    }
   ],
   "source": [
    "# Afficher dix (10) observations par hasard de df_twitter_archive\n",
    "df_twitter_archive.sample(10)"
   ]
  },
  {
   "cell_type": "code",
   "execution_count": 119,
   "id": "19bbe56b",
   "metadata": {},
   "outputs": [
    {
     "data": {
      "text/plain": [
       "(2356, 17)"
      ]
     },
     "execution_count": 119,
     "metadata": {},
     "output_type": "execute_result"
    }
   ],
   "source": [
    "# Dimensions de df_twitter_archive\n",
    "df_twitter_archive.shape"
   ]
  },
  {
   "cell_type": "code",
   "execution_count": 120,
   "id": "9568ee7a",
   "metadata": {},
   "outputs": [
    {
     "data": {
      "text/plain": [
       "Index(['tweet_id', 'in_reply_to_status_id', 'in_reply_to_user_id', 'timestamp',\n",
       "       'source', 'text', 'retweeted_status_id', 'retweeted_status_user_id',\n",
       "       'retweeted_status_timestamp', 'expanded_urls', 'rating_numerator',\n",
       "       'rating_denominator', 'name', 'doggo', 'floofer', 'pupper', 'puppo'],\n",
       "      dtype='object')"
      ]
     },
     "execution_count": 120,
     "metadata": {},
     "output_type": "execute_result"
    }
   ],
   "source": [
    "# Nom des différentes variables de df_twitter_archive\n",
    "df_twitter_archive.columns"
   ]
  },
  {
   "cell_type": "code",
   "execution_count": 121,
   "id": "e7513c76",
   "metadata": {},
   "outputs": [
    {
     "name": "stdout",
     "output_type": "stream",
     "text": [
      "<class 'pandas.core.frame.DataFrame'>\n",
      "RangeIndex: 2356 entries, 0 to 2355\n",
      "Data columns (total 17 columns):\n",
      " #   Column                      Non-Null Count  Dtype  \n",
      "---  ------                      --------------  -----  \n",
      " 0   tweet_id                    2356 non-null   int64  \n",
      " 1   in_reply_to_status_id       78 non-null     float64\n",
      " 2   in_reply_to_user_id         78 non-null     float64\n",
      " 3   timestamp                   2356 non-null   object \n",
      " 4   source                      2356 non-null   object \n",
      " 5   text                        2356 non-null   object \n",
      " 6   retweeted_status_id         181 non-null    float64\n",
      " 7   retweeted_status_user_id    181 non-null    float64\n",
      " 8   retweeted_status_timestamp  181 non-null    object \n",
      " 9   expanded_urls               2297 non-null   object \n",
      " 10  rating_numerator            2356 non-null   int64  \n",
      " 11  rating_denominator          2356 non-null   int64  \n",
      " 12  name                        2356 non-null   object \n",
      " 13  doggo                       2356 non-null   object \n",
      " 14  floofer                     2356 non-null   object \n",
      " 15  pupper                      2356 non-null   object \n",
      " 16  puppo                       2356 non-null   object \n",
      "dtypes: float64(4), int64(3), object(10)\n",
      "memory usage: 313.0+ KB\n"
     ]
    }
   ],
   "source": [
    "# Afficher le nombre total d'observation de chaque colonne et leurs types\n",
    "df_twitter_archive.info()"
   ]
  },
  {
   "cell_type": "code",
   "execution_count": 122,
   "id": "f61a10fb",
   "metadata": {},
   "outputs": [
    {
     "data": {
      "text/plain": [
       "count    2356.000000\n",
       "mean       13.126486\n",
       "std        45.876648\n",
       "min         0.000000\n",
       "25%        10.000000\n",
       "50%        11.000000\n",
       "75%        12.000000\n",
       "max      1776.000000\n",
       "Name: rating_numerator, dtype: float64"
      ]
     },
     "execution_count": 122,
     "metadata": {},
     "output_type": "execute_result"
    }
   ],
   "source": [
    "# Statistique descriptive de rating_numerator de df_twitter_archive\n",
    "df_twitter_archive['rating_numerator'].describe()"
   ]
  },
  {
   "cell_type": "code",
   "execution_count": 123,
   "id": "b086bd79",
   "metadata": {},
   "outputs": [
    {
     "data": {
      "text/plain": [
       "10     2333\n",
       "11        3\n",
       "50        3\n",
       "20        2\n",
       "80        2\n",
       "70        1\n",
       "7         1\n",
       "15        1\n",
       "150       1\n",
       "170       1\n",
       "0         1\n",
       "90        1\n",
       "40        1\n",
       "130       1\n",
       "110       1\n",
       "16        1\n",
       "120       1\n",
       "2         1\n",
       "Name: rating_denominator, dtype: int64"
      ]
     },
     "execution_count": 123,
     "metadata": {},
     "output_type": "execute_result"
    }
   ],
   "source": [
    "# Les différentes valeures prises par rating_denominator \n",
    "df_twitter_archive.rating_denominator.value_counts()"
   ]
  },
  {
   "cell_type": "code",
   "execution_count": 124,
   "id": "337da738",
   "metadata": {},
   "outputs": [
    {
     "data": {
      "text/plain": [
       "12      558\n",
       "11      464\n",
       "10      461\n",
       "13      351\n",
       "9       158\n",
       "8       102\n",
       "7        55\n",
       "14       54\n",
       "5        37\n",
       "6        32\n",
       "3        19\n",
       "4        17\n",
       "2         9\n",
       "1         9\n",
       "75        2\n",
       "15        2\n",
       "420       2\n",
       "0         2\n",
       "80        1\n",
       "144       1\n",
       "17        1\n",
       "26        1\n",
       "20        1\n",
       "121       1\n",
       "143       1\n",
       "44        1\n",
       "60        1\n",
       "45        1\n",
       "50        1\n",
       "99        1\n",
       "204       1\n",
       "1776      1\n",
       "165       1\n",
       "666       1\n",
       "27        1\n",
       "182       1\n",
       "24        1\n",
       "960       1\n",
       "84        1\n",
       "88        1\n",
       "Name: rating_numerator, dtype: int64"
      ]
     },
     "execution_count": 124,
     "metadata": {},
     "output_type": "execute_result"
    }
   ],
   "source": [
    "# Les différentes valeures prises par rating_numerator \n",
    "df_twitter_archive.rating_numerator.value_counts()"
   ]
  },
  {
   "cell_type": "code",
   "execution_count": 125,
   "id": "42d2efc1",
   "metadata": {},
   "outputs": [
    {
     "data": {
      "text/plain": [
       "440"
      ]
     },
     "execution_count": 125,
     "metadata": {},
     "output_type": "execute_result"
    }
   ],
   "source": [
    "# Nombre de chiens ayant une note en dessous de 10\n",
    "df_twitter_archive[df_twitter_archive.rating_numerator <10].count()[0]"
   ]
  },
  {
   "cell_type": "code",
   "execution_count": 126,
   "id": "c5d07659",
   "metadata": {},
   "outputs": [
    {
     "data": {
      "text/plain": [
       "45      883482846933004288\n",
       "229     848212111729840128\n",
       "315     835152434251116546\n",
       "387     826598799820865537\n",
       "462     817502432452313088\n",
       "               ...        \n",
       "2351    666049248165822465\n",
       "2352    666044226329800704\n",
       "2353    666033412701032449\n",
       "2354    666029285002620928\n",
       "2355    666020888022790149\n",
       "Name: tweet_id, Length: 440, dtype: int64"
      ]
     },
     "execution_count": 126,
     "metadata": {},
     "output_type": "execute_result"
    }
   ],
   "source": [
    "# Afficher l'identifiant des chiens qui ont une note en dessous de 10\n",
    "df_twitter_archive[df_twitter_archive.rating_numerator <10].tweet_id"
   ]
  },
  {
   "cell_type": "code",
   "execution_count": 127,
   "id": "b6317c0c",
   "metadata": {},
   "outputs": [
    {
     "data": {
      "text/plain": [
       "2355    8\n",
       "Name: rating_numerator, dtype: int64"
      ]
     },
     "execution_count": 127,
     "metadata": {},
     "output_type": "execute_result"
    }
   ],
   "source": [
    "# Vérifier rating_numerator de tweet_id 666020888022790149\n",
    "df_twitter_archive.loc[(df_twitter_archive.tweet_id == 666020888022790149), 'rating_numerator']"
   ]
  },
  {
   "cell_type": "code",
   "execution_count": 128,
   "id": "6371a439",
   "metadata": {},
   "outputs": [
    {
     "data": {
      "text/plain": [
       "'Here we have a Japanese Irish Setter. Lost eye in Vietnam (?). Big fan of relaxing on stair. 8/10 would pet https://t.co/BLDqew2Ijj'"
      ]
     },
     "execution_count": 128,
     "metadata": {},
     "output_type": "execute_result"
    }
   ],
   "source": [
    "# Vérifier le texte du tweet_id 666020888022790149\n",
    "df_twitter_archive.loc[2355, 'text']"
   ]
  },
  {
   "cell_type": "code",
   "execution_count": 129,
   "id": "f569f8c3",
   "metadata": {},
   "outputs": [
    {
     "data": {
      "text/plain": [
       "count    2356.000000\n",
       "mean       10.455433\n",
       "std         6.745237\n",
       "min         0.000000\n",
       "25%        10.000000\n",
       "50%        10.000000\n",
       "75%        10.000000\n",
       "max       170.000000\n",
       "Name: rating_denominator, dtype: float64"
      ]
     },
     "execution_count": 129,
     "metadata": {},
     "output_type": "execute_result"
    }
   ],
   "source": [
    "# Statistique descriptive de rating_denominator de df_twitter_archive\n",
    "df_twitter_archive['rating_denominator'].describe()"
   ]
  },
  {
   "cell_type": "code",
   "execution_count": 130,
   "id": "98d610cd",
   "metadata": {},
   "outputs": [
    {
     "data": {
      "text/plain": [
       "313    835246439529840640\n",
       "Name: tweet_id, dtype: int64"
      ]
     },
     "execution_count": 130,
     "metadata": {},
     "output_type": "execute_result"
    }
   ],
   "source": [
    "# Vérification de l'identifiant du chien ayant un dénominateur 0\n",
    "df_twitter_archive[df_twitter_archive.rating_denominator == 0].tweet_id"
   ]
  },
  {
   "cell_type": "code",
   "execution_count": 131,
   "id": "2e52a12c",
   "metadata": {},
   "outputs": [
    {
     "data": {
      "text/plain": [
       "\"@jonnysun @Lin_Manuel ok jomny I know you're excited but 960/00 isn't a valid rating, 13/10 is tho\""
      ]
     },
     "execution_count": 131,
     "metadata": {},
     "output_type": "execute_result"
    }
   ],
   "source": [
    "# Vérifier le texte du tweet_id 835246439529840640\n",
    "df_twitter_archive.loc[313, 'text']"
   ]
  },
  {
   "cell_type": "code",
   "execution_count": 132,
   "id": "93611a9d",
   "metadata": {},
   "outputs": [
    {
     "data": {
      "text/plain": [
       "23"
      ]
     },
     "execution_count": 132,
     "metadata": {},
     "output_type": "execute_result"
    }
   ],
   "source": [
    "# Compter le nombre de chien ayant comme note au dénominateur différent de 10\n",
    "df_twitter_archive[df_twitter_archive.rating_denominator != 10].count()[0]"
   ]
  },
  {
   "cell_type": "code",
   "execution_count": 133,
   "id": "3ffc364b",
   "metadata": {},
   "outputs": [
    {
     "data": {
      "text/plain": [
       "None          745\n",
       "a              55\n",
       "Charlie        12\n",
       "Cooper         11\n",
       "Lucy           11\n",
       "             ... \n",
       "Dex             1\n",
       "Ace             1\n",
       "Tayzie          1\n",
       "Grizzie         1\n",
       "Christoper      1\n",
       "Name: name, Length: 957, dtype: int64"
      ]
     },
     "execution_count": 133,
     "metadata": {},
     "output_type": "execute_result"
    }
   ],
   "source": [
    "# Afficher les noms des chiens de df_twitter_archive\n",
    "df_twitter_archive.name.value_counts()"
   ]
  },
  {
   "cell_type": "code",
   "execution_count": 134,
   "id": "dffee917",
   "metadata": {},
   "outputs": [
    {
     "data": {
      "text/plain": [
       "https://twitter.com/dog_rates/status/667152164079423490/photo/1                                                                                                                                                                                                    2\n",
       "https://twitter.com/dog_rates/status/718631497683582976/photo/1                                                                                                                                                                                                    2\n",
       "https://twitter.com/dog_rates/status/783839966405230592/photo/1,https://twitter.com/dog_rates/status/783839966405230592/photo/1,https://twitter.com/dog_rates/status/783839966405230592/photo/1                                                                    2\n",
       "https://twitter.com/dog_rates/status/774314403806253056/photo/1,https://twitter.com/dog_rates/status/774314403806253056/photo/1,https://twitter.com/dog_rates/status/774314403806253056/photo/1,https://twitter.com/dog_rates/status/774314403806253056/photo/1    2\n",
       "https://twitter.com/dog_rates/status/781524693396357120/photo/1                                                                                                                                                                                                    2\n",
       "                                                                                                                                                                                                                                                                  ..\n",
       "https://twitter.com/dog_rates/status/763837565564780549/photo/1                                                                                                                                                                                                    1\n",
       "https://twitter.com/dog_rates/status/764259802650378240/photo/1,https://twitter.com/dog_rates/status/764259802650378240/photo/1                                                                                                                                    1\n",
       "https://twitter.com/dog_rates/status/764857477905154048/photo/1                                                                                                                                                                                                    1\n",
       "https://twitter.com/dog_rates/status/765222098633691136/photo/1                                                                                                                                                                                                    1\n",
       "https://twitter.com/dog_rates/status/666020888022790149/photo/1                                                                                                                                                                                                    1\n",
       "Name: expanded_urls, Length: 2218, dtype: int64"
      ]
     },
     "execution_count": 134,
     "metadata": {},
     "output_type": "execute_result"
    }
   ],
   "source": [
    "df_twitter_archive.expanded_urls.value_counts()"
   ]
  },
  {
   "cell_type": "code",
   "execution_count": 135,
   "id": "244d6573",
   "metadata": {},
   "outputs": [
    {
     "data": {
      "text/plain": [
       "str"
      ]
     },
     "execution_count": 135,
     "metadata": {},
     "output_type": "execute_result"
    }
   ],
   "source": [
    "# Type de timestamp\n",
    "type(df_twitter_archive.timestamp[0])"
   ]
  },
  {
   "cell_type": "code",
   "execution_count": 136,
   "id": "feb9a74d",
   "metadata": {},
   "outputs": [
    {
     "data": {
      "text/plain": [
       "0"
      ]
     },
     "execution_count": 136,
     "metadata": {},
     "output_type": "execute_result"
    }
   ],
   "source": [
    "# Somme de valeurs dupliquées\n",
    "df_twitter_archive.duplicated().sum()"
   ]
  },
  {
   "cell_type": "markdown",
   "id": "b4cec8c5",
   "metadata": {},
   "source": [
    "### B. Evaluation des données de prédictions d'images"
   ]
  },
  {
   "cell_type": "code",
   "execution_count": 137,
   "id": "3a639ae1",
   "metadata": {},
   "outputs": [
    {
     "data": {
      "text/html": [
       "<div>\n",
       "<style scoped>\n",
       "    .dataframe tbody tr th:only-of-type {\n",
       "        vertical-align: middle;\n",
       "    }\n",
       "\n",
       "    .dataframe tbody tr th {\n",
       "        vertical-align: top;\n",
       "    }\n",
       "\n",
       "    .dataframe thead th {\n",
       "        text-align: right;\n",
       "    }\n",
       "</style>\n",
       "<table border=\"1\" class=\"dataframe\">\n",
       "  <thead>\n",
       "    <tr style=\"text-align: right;\">\n",
       "      <th></th>\n",
       "      <th>tweet_id</th>\n",
       "      <th>jpg_url</th>\n",
       "      <th>img_num</th>\n",
       "      <th>p1</th>\n",
       "      <th>p1_conf</th>\n",
       "      <th>p1_dog</th>\n",
       "      <th>p2</th>\n",
       "      <th>p2_conf</th>\n",
       "      <th>p2_dog</th>\n",
       "      <th>p3</th>\n",
       "      <th>p3_conf</th>\n",
       "      <th>p3_dog</th>\n",
       "    </tr>\n",
       "  </thead>\n",
       "  <tbody>\n",
       "    <tr>\n",
       "      <th>0</th>\n",
       "      <td>666020888022790149</td>\n",
       "      <td>https://pbs.twimg.com/media/CT4udn0WwAA0aMy.jpg</td>\n",
       "      <td>1</td>\n",
       "      <td>Welsh_springer_spaniel</td>\n",
       "      <td>0.465074</td>\n",
       "      <td>True</td>\n",
       "      <td>collie</td>\n",
       "      <td>0.156665</td>\n",
       "      <td>True</td>\n",
       "      <td>Shetland_sheepdog</td>\n",
       "      <td>0.061428</td>\n",
       "      <td>True</td>\n",
       "    </tr>\n",
       "    <tr>\n",
       "      <th>1</th>\n",
       "      <td>666029285002620928</td>\n",
       "      <td>https://pbs.twimg.com/media/CT42GRgUYAA5iDo.jpg</td>\n",
       "      <td>1</td>\n",
       "      <td>redbone</td>\n",
       "      <td>0.506826</td>\n",
       "      <td>True</td>\n",
       "      <td>miniature_pinscher</td>\n",
       "      <td>0.074192</td>\n",
       "      <td>True</td>\n",
       "      <td>Rhodesian_ridgeback</td>\n",
       "      <td>0.072010</td>\n",
       "      <td>True</td>\n",
       "    </tr>\n",
       "    <tr>\n",
       "      <th>2</th>\n",
       "      <td>666033412701032449</td>\n",
       "      <td>https://pbs.twimg.com/media/CT4521TWwAEvMyu.jpg</td>\n",
       "      <td>1</td>\n",
       "      <td>German_shepherd</td>\n",
       "      <td>0.596461</td>\n",
       "      <td>True</td>\n",
       "      <td>malinois</td>\n",
       "      <td>0.138584</td>\n",
       "      <td>True</td>\n",
       "      <td>bloodhound</td>\n",
       "      <td>0.116197</td>\n",
       "      <td>True</td>\n",
       "    </tr>\n",
       "    <tr>\n",
       "      <th>3</th>\n",
       "      <td>666044226329800704</td>\n",
       "      <td>https://pbs.twimg.com/media/CT5Dr8HUEAA-lEu.jpg</td>\n",
       "      <td>1</td>\n",
       "      <td>Rhodesian_ridgeback</td>\n",
       "      <td>0.408143</td>\n",
       "      <td>True</td>\n",
       "      <td>redbone</td>\n",
       "      <td>0.360687</td>\n",
       "      <td>True</td>\n",
       "      <td>miniature_pinscher</td>\n",
       "      <td>0.222752</td>\n",
       "      <td>True</td>\n",
       "    </tr>\n",
       "    <tr>\n",
       "      <th>4</th>\n",
       "      <td>666049248165822465</td>\n",
       "      <td>https://pbs.twimg.com/media/CT5IQmsXIAAKY4A.jpg</td>\n",
       "      <td>1</td>\n",
       "      <td>miniature_pinscher</td>\n",
       "      <td>0.560311</td>\n",
       "      <td>True</td>\n",
       "      <td>Rottweiler</td>\n",
       "      <td>0.243682</td>\n",
       "      <td>True</td>\n",
       "      <td>Doberman</td>\n",
       "      <td>0.154629</td>\n",
       "      <td>True</td>\n",
       "    </tr>\n",
       "  </tbody>\n",
       "</table>\n",
       "</div>"
      ],
      "text/plain": [
       "             tweet_id                                          jpg_url  \\\n",
       "0  666020888022790149  https://pbs.twimg.com/media/CT4udn0WwAA0aMy.jpg   \n",
       "1  666029285002620928  https://pbs.twimg.com/media/CT42GRgUYAA5iDo.jpg   \n",
       "2  666033412701032449  https://pbs.twimg.com/media/CT4521TWwAEvMyu.jpg   \n",
       "3  666044226329800704  https://pbs.twimg.com/media/CT5Dr8HUEAA-lEu.jpg   \n",
       "4  666049248165822465  https://pbs.twimg.com/media/CT5IQmsXIAAKY4A.jpg   \n",
       "\n",
       "   img_num                      p1   p1_conf  p1_dog                  p2  \\\n",
       "0        1  Welsh_springer_spaniel  0.465074    True              collie   \n",
       "1        1                 redbone  0.506826    True  miniature_pinscher   \n",
       "2        1         German_shepherd  0.596461    True            malinois   \n",
       "3        1     Rhodesian_ridgeback  0.408143    True             redbone   \n",
       "4        1      miniature_pinscher  0.560311    True          Rottweiler   \n",
       "\n",
       "    p2_conf  p2_dog                   p3   p3_conf  p3_dog  \n",
       "0  0.156665    True    Shetland_sheepdog  0.061428    True  \n",
       "1  0.074192    True  Rhodesian_ridgeback  0.072010    True  \n",
       "2  0.138584    True           bloodhound  0.116197    True  \n",
       "3  0.360687    True   miniature_pinscher  0.222752    True  \n",
       "4  0.243682    True             Doberman  0.154629    True  "
      ]
     },
     "execution_count": 137,
     "metadata": {},
     "output_type": "execute_result"
    }
   ],
   "source": [
    "# Afficher les (05) premières observations de df_image_prediction\n",
    "df_image_prediction.head()"
   ]
  },
  {
   "cell_type": "code",
   "execution_count": 138,
   "id": "58860609",
   "metadata": {},
   "outputs": [
    {
     "data": {
      "text/html": [
       "<div>\n",
       "<style scoped>\n",
       "    .dataframe tbody tr th:only-of-type {\n",
       "        vertical-align: middle;\n",
       "    }\n",
       "\n",
       "    .dataframe tbody tr th {\n",
       "        vertical-align: top;\n",
       "    }\n",
       "\n",
       "    .dataframe thead th {\n",
       "        text-align: right;\n",
       "    }\n",
       "</style>\n",
       "<table border=\"1\" class=\"dataframe\">\n",
       "  <thead>\n",
       "    <tr style=\"text-align: right;\">\n",
       "      <th></th>\n",
       "      <th>tweet_id</th>\n",
       "      <th>jpg_url</th>\n",
       "      <th>img_num</th>\n",
       "      <th>p1</th>\n",
       "      <th>p1_conf</th>\n",
       "      <th>p1_dog</th>\n",
       "      <th>p2</th>\n",
       "      <th>p2_conf</th>\n",
       "      <th>p2_dog</th>\n",
       "      <th>p3</th>\n",
       "      <th>p3_conf</th>\n",
       "      <th>p3_dog</th>\n",
       "    </tr>\n",
       "  </thead>\n",
       "  <tbody>\n",
       "    <tr>\n",
       "      <th>1938</th>\n",
       "      <td>860524505164394496</td>\n",
       "      <td>https://pbs.twimg.com/media/C_EyeKuXkAAdxY-.jpg</td>\n",
       "      <td>1</td>\n",
       "      <td>Bedlington_terrier</td>\n",
       "      <td>0.286558</td>\n",
       "      <td>True</td>\n",
       "      <td>toy_poodle</td>\n",
       "      <td>0.235193</td>\n",
       "      <td>True</td>\n",
       "      <td>Lakeland_terrier</td>\n",
       "      <td>0.087951</td>\n",
       "      <td>True</td>\n",
       "    </tr>\n",
       "    <tr>\n",
       "      <th>209</th>\n",
       "      <td>669972011175813120</td>\n",
       "      <td>https://pbs.twimg.com/media/CUw3_QiUEAA8cT9.jpg</td>\n",
       "      <td>1</td>\n",
       "      <td>teddy</td>\n",
       "      <td>0.953071</td>\n",
       "      <td>False</td>\n",
       "      <td>koala</td>\n",
       "      <td>0.007027</td>\n",
       "      <td>False</td>\n",
       "      <td>fur_coat</td>\n",
       "      <td>0.005368</td>\n",
       "      <td>False</td>\n",
       "    </tr>\n",
       "    <tr>\n",
       "      <th>583</th>\n",
       "      <td>678800283649069056</td>\n",
       "      <td>https://pbs.twimg.com/media/CWuVQSLW4AAI3w9.jpg</td>\n",
       "      <td>1</td>\n",
       "      <td>Labrador_retriever</td>\n",
       "      <td>0.213673</td>\n",
       "      <td>True</td>\n",
       "      <td>beagle</td>\n",
       "      <td>0.146235</td>\n",
       "      <td>True</td>\n",
       "      <td>Airedale</td>\n",
       "      <td>0.122701</td>\n",
       "      <td>True</td>\n",
       "    </tr>\n",
       "    <tr>\n",
       "      <th>1842</th>\n",
       "      <td>838476387338051585</td>\n",
       "      <td>https://pbs.twimg.com/media/C6Ld0wYWgAQQqMC.jpg</td>\n",
       "      <td>3</td>\n",
       "      <td>Great_Pyrenees</td>\n",
       "      <td>0.997692</td>\n",
       "      <td>True</td>\n",
       "      <td>kuvasz</td>\n",
       "      <td>0.001001</td>\n",
       "      <td>True</td>\n",
       "      <td>Newfoundland</td>\n",
       "      <td>0.000405</td>\n",
       "      <td>True</td>\n",
       "    </tr>\n",
       "    <tr>\n",
       "      <th>548</th>\n",
       "      <td>677334615166730240</td>\n",
       "      <td>https://pbs.twimg.com/media/CWZgPPUWUAAUOvu.jpg</td>\n",
       "      <td>2</td>\n",
       "      <td>Lakeland_terrier</td>\n",
       "      <td>0.859392</td>\n",
       "      <td>True</td>\n",
       "      <td>Airedale</td>\n",
       "      <td>0.067292</td>\n",
       "      <td>True</td>\n",
       "      <td>Irish_water_spaniel</td>\n",
       "      <td>0.049531</td>\n",
       "      <td>True</td>\n",
       "    </tr>\n",
       "    <tr>\n",
       "      <th>1636</th>\n",
       "      <td>806242860592926720</td>\n",
       "      <td>https://pbs.twimg.com/media/Ct72q9jWcAAhlnw.jpg</td>\n",
       "      <td>2</td>\n",
       "      <td>Cardigan</td>\n",
       "      <td>0.593858</td>\n",
       "      <td>True</td>\n",
       "      <td>Shetland_sheepdog</td>\n",
       "      <td>0.130611</td>\n",
       "      <td>True</td>\n",
       "      <td>Pembroke</td>\n",
       "      <td>0.100842</td>\n",
       "      <td>True</td>\n",
       "    </tr>\n",
       "    <tr>\n",
       "      <th>137</th>\n",
       "      <td>668528771708952576</td>\n",
       "      <td>https://pbs.twimg.com/media/CUcXXpxWUAAUJ__.jpg</td>\n",
       "      <td>1</td>\n",
       "      <td>Labrador_retriever</td>\n",
       "      <td>0.195835</td>\n",
       "      <td>True</td>\n",
       "      <td>kuvasz</td>\n",
       "      <td>0.121607</td>\n",
       "      <td>True</td>\n",
       "      <td>English_setter</td>\n",
       "      <td>0.081464</td>\n",
       "      <td>True</td>\n",
       "    </tr>\n",
       "    <tr>\n",
       "      <th>1200</th>\n",
       "      <td>740995100998766593</td>\n",
       "      <td>https://pbs.twimg.com/media/CkiLHCjUUAAPwUr.jpg</td>\n",
       "      <td>1</td>\n",
       "      <td>malamute</td>\n",
       "      <td>0.454363</td>\n",
       "      <td>True</td>\n",
       "      <td>Samoyed</td>\n",
       "      <td>0.215967</td>\n",
       "      <td>True</td>\n",
       "      <td>Siberian_husky</td>\n",
       "      <td>0.077500</td>\n",
       "      <td>True</td>\n",
       "    </tr>\n",
       "    <tr>\n",
       "      <th>1682</th>\n",
       "      <td>813910438903693312</td>\n",
       "      <td>https://pbs.twimg.com/media/C0uXObSXUAAIzmV.jpg</td>\n",
       "      <td>1</td>\n",
       "      <td>Siberian_husky</td>\n",
       "      <td>0.699355</td>\n",
       "      <td>True</td>\n",
       "      <td>Eskimo_dog</td>\n",
       "      <td>0.256433</td>\n",
       "      <td>True</td>\n",
       "      <td>Norwegian_elkhound</td>\n",
       "      <td>0.013189</td>\n",
       "      <td>True</td>\n",
       "    </tr>\n",
       "    <tr>\n",
       "      <th>1529</th>\n",
       "      <td>789268448748703744</td>\n",
       "      <td>https://pbs.twimg.com/media/CvQLdotWcAAZn86.jpg</td>\n",
       "      <td>1</td>\n",
       "      <td>malamute</td>\n",
       "      <td>0.812860</td>\n",
       "      <td>True</td>\n",
       "      <td>Siberian_husky</td>\n",
       "      <td>0.120853</td>\n",
       "      <td>True</td>\n",
       "      <td>Eskimo_dog</td>\n",
       "      <td>0.024269</td>\n",
       "      <td>True</td>\n",
       "    </tr>\n",
       "  </tbody>\n",
       "</table>\n",
       "</div>"
      ],
      "text/plain": [
       "                tweet_id                                          jpg_url  \\\n",
       "1938  860524505164394496  https://pbs.twimg.com/media/C_EyeKuXkAAdxY-.jpg   \n",
       "209   669972011175813120  https://pbs.twimg.com/media/CUw3_QiUEAA8cT9.jpg   \n",
       "583   678800283649069056  https://pbs.twimg.com/media/CWuVQSLW4AAI3w9.jpg   \n",
       "1842  838476387338051585  https://pbs.twimg.com/media/C6Ld0wYWgAQQqMC.jpg   \n",
       "548   677334615166730240  https://pbs.twimg.com/media/CWZgPPUWUAAUOvu.jpg   \n",
       "1636  806242860592926720  https://pbs.twimg.com/media/Ct72q9jWcAAhlnw.jpg   \n",
       "137   668528771708952576  https://pbs.twimg.com/media/CUcXXpxWUAAUJ__.jpg   \n",
       "1200  740995100998766593  https://pbs.twimg.com/media/CkiLHCjUUAAPwUr.jpg   \n",
       "1682  813910438903693312  https://pbs.twimg.com/media/C0uXObSXUAAIzmV.jpg   \n",
       "1529  789268448748703744  https://pbs.twimg.com/media/CvQLdotWcAAZn86.jpg   \n",
       "\n",
       "      img_num                  p1   p1_conf  p1_dog                 p2  \\\n",
       "1938        1  Bedlington_terrier  0.286558    True         toy_poodle   \n",
       "209         1               teddy  0.953071   False              koala   \n",
       "583         1  Labrador_retriever  0.213673    True             beagle   \n",
       "1842        3      Great_Pyrenees  0.997692    True             kuvasz   \n",
       "548         2    Lakeland_terrier  0.859392    True           Airedale   \n",
       "1636        2            Cardigan  0.593858    True  Shetland_sheepdog   \n",
       "137         1  Labrador_retriever  0.195835    True             kuvasz   \n",
       "1200        1            malamute  0.454363    True            Samoyed   \n",
       "1682        1      Siberian_husky  0.699355    True         Eskimo_dog   \n",
       "1529        1            malamute  0.812860    True     Siberian_husky   \n",
       "\n",
       "       p2_conf  p2_dog                   p3   p3_conf  p3_dog  \n",
       "1938  0.235193    True     Lakeland_terrier  0.087951    True  \n",
       "209   0.007027   False             fur_coat  0.005368   False  \n",
       "583   0.146235    True             Airedale  0.122701    True  \n",
       "1842  0.001001    True         Newfoundland  0.000405    True  \n",
       "548   0.067292    True  Irish_water_spaniel  0.049531    True  \n",
       "1636  0.130611    True             Pembroke  0.100842    True  \n",
       "137   0.121607    True       English_setter  0.081464    True  \n",
       "1200  0.215967    True       Siberian_husky  0.077500    True  \n",
       "1682  0.256433    True   Norwegian_elkhound  0.013189    True  \n",
       "1529  0.120853    True           Eskimo_dog  0.024269    True  "
      ]
     },
     "execution_count": 138,
     "metadata": {},
     "output_type": "execute_result"
    }
   ],
   "source": [
    "# Afficher par hasard dix (10) observations de df_image_prediction\n",
    "df_image_prediction.sample(10)"
   ]
  },
  {
   "cell_type": "code",
   "execution_count": 139,
   "id": "af5e61d5",
   "metadata": {},
   "outputs": [
    {
     "data": {
      "text/plain": [
       "(2075, 12)"
      ]
     },
     "execution_count": 139,
     "metadata": {},
     "output_type": "execute_result"
    }
   ],
   "source": [
    "# Dimension de df_image_prediction\n",
    "df_image_prediction.shape"
   ]
  },
  {
   "cell_type": "code",
   "execution_count": 140,
   "id": "cca88545",
   "metadata": {},
   "outputs": [
    {
     "data": {
      "text/plain": [
       "Index(['tweet_id', 'jpg_url', 'img_num', 'p1', 'p1_conf', 'p1_dog', 'p2',\n",
       "       'p2_conf', 'p2_dog', 'p3', 'p3_conf', 'p3_dog'],\n",
       "      dtype='object')"
      ]
     },
     "execution_count": 140,
     "metadata": {},
     "output_type": "execute_result"
    }
   ],
   "source": [
    "# Nom des différentes colonnes de df_image_prediction\n",
    "df_image_prediction.columns"
   ]
  },
  {
   "cell_type": "code",
   "execution_count": 141,
   "id": "29b692be",
   "metadata": {},
   "outputs": [
    {
     "data": {
      "text/plain": [
       "'https://pbs.twimg.com/ext_tw_video_thumb/754481405627957248/pu/img/YY1eBDOlP9QFC4Bj.jpg'"
      ]
     },
     "execution_count": 141,
     "metadata": {},
     "output_type": "execute_result"
    }
   ],
   "source": [
    "df_image_prediction.loc[1312, 'jpg_url']"
   ]
  },
  {
   "cell_type": "code",
   "execution_count": 142,
   "id": "729f980b",
   "metadata": {},
   "outputs": [
    {
     "data": {
      "text/html": [
       "<img src=\"https://pbs.twimg.com/ext_tw_video_thumb/754481405627957248/pu/img/YY1eBDOlP9QFC4Bj.jpg\"/>"
      ],
      "text/plain": [
       "<IPython.core.display.Image object>"
      ]
     },
     "execution_count": 142,
     "metadata": {},
     "output_type": "execute_result"
    }
   ],
   "source": [
    "from IPython.display import Image\n",
    "Image(url = 'https://pbs.twimg.com/ext_tw_video_thumb/754481405627957248/pu/img/YY1eBDOlP9QFC4Bj.jpg')"
   ]
  },
  {
   "cell_type": "code",
   "execution_count": 143,
   "id": "97fa61d1",
   "metadata": {},
   "outputs": [
    {
     "name": "stdout",
     "output_type": "stream",
     "text": [
      "<class 'pandas.core.frame.DataFrame'>\n",
      "RangeIndex: 2075 entries, 0 to 2074\n",
      "Data columns (total 12 columns):\n",
      " #   Column    Non-Null Count  Dtype  \n",
      "---  ------    --------------  -----  \n",
      " 0   tweet_id  2075 non-null   int64  \n",
      " 1   jpg_url   2075 non-null   object \n",
      " 2   img_num   2075 non-null   int64  \n",
      " 3   p1        2075 non-null   object \n",
      " 4   p1_conf   2075 non-null   float64\n",
      " 5   p1_dog    2075 non-null   bool   \n",
      " 6   p2        2075 non-null   object \n",
      " 7   p2_conf   2075 non-null   float64\n",
      " 8   p2_dog    2075 non-null   bool   \n",
      " 9   p3        2075 non-null   object \n",
      " 10  p3_conf   2075 non-null   float64\n",
      " 11  p3_dog    2075 non-null   bool   \n",
      "dtypes: bool(3), float64(3), int64(2), object(4)\n",
      "memory usage: 152.1+ KB\n"
     ]
    }
   ],
   "source": [
    "# Observer les manquants et le type des variables de df_image_prediction\n",
    "df_image_prediction.info()"
   ]
  },
  {
   "cell_type": "code",
   "execution_count": 144,
   "id": "faa8b9b3",
   "metadata": {},
   "outputs": [
    {
     "data": {
      "text/plain": [
       "str"
      ]
     },
     "execution_count": 144,
     "metadata": {},
     "output_type": "execute_result"
    }
   ],
   "source": [
    "# Type de jpg_url\n",
    "type(df_image_prediction.jpg_url[0])"
   ]
  },
  {
   "cell_type": "code",
   "execution_count": 145,
   "id": "7828bc18",
   "metadata": {},
   "outputs": [
    {
     "data": {
      "text/plain": [
       "0"
      ]
     },
     "execution_count": 145,
     "metadata": {},
     "output_type": "execute_result"
    }
   ],
   "source": [
    "# Les valeurs dupliquées\n",
    "df_image_prediction.duplicated().sum()"
   ]
  },
  {
   "cell_type": "markdown",
   "id": "f05ae3d0",
   "metadata": {},
   "source": [
    "### C. Evaluation des Tweets via l'API Twitter"
   ]
  },
  {
   "cell_type": "code",
   "execution_count": 146,
   "id": "e246ebf6",
   "metadata": {},
   "outputs": [
    {
     "data": {
      "text/html": [
       "<div>\n",
       "<style scoped>\n",
       "    .dataframe tbody tr th:only-of-type {\n",
       "        vertical-align: middle;\n",
       "    }\n",
       "\n",
       "    .dataframe tbody tr th {\n",
       "        vertical-align: top;\n",
       "    }\n",
       "\n",
       "    .dataframe thead th {\n",
       "        text-align: right;\n",
       "    }\n",
       "</style>\n",
       "<table border=\"1\" class=\"dataframe\">\n",
       "  <thead>\n",
       "    <tr style=\"text-align: right;\">\n",
       "      <th></th>\n",
       "      <th>tweet_id</th>\n",
       "      <th>retweet_count</th>\n",
       "      <th>favorite_count</th>\n",
       "    </tr>\n",
       "  </thead>\n",
       "  <tbody>\n",
       "    <tr>\n",
       "      <th>0</th>\n",
       "      <td>892420643555336193</td>\n",
       "      <td>8853</td>\n",
       "      <td>39467</td>\n",
       "    </tr>\n",
       "    <tr>\n",
       "      <th>1</th>\n",
       "      <td>892177421306343426</td>\n",
       "      <td>6514</td>\n",
       "      <td>33819</td>\n",
       "    </tr>\n",
       "    <tr>\n",
       "      <th>2</th>\n",
       "      <td>891815181378084864</td>\n",
       "      <td>4328</td>\n",
       "      <td>25461</td>\n",
       "    </tr>\n",
       "    <tr>\n",
       "      <th>3</th>\n",
       "      <td>891689557279858688</td>\n",
       "      <td>8964</td>\n",
       "      <td>42908</td>\n",
       "    </tr>\n",
       "    <tr>\n",
       "      <th>4</th>\n",
       "      <td>891327558926688256</td>\n",
       "      <td>9774</td>\n",
       "      <td>41048</td>\n",
       "    </tr>\n",
       "  </tbody>\n",
       "</table>\n",
       "</div>"
      ],
      "text/plain": [
       "             tweet_id  retweet_count  favorite_count\n",
       "0  892420643555336193           8853           39467\n",
       "1  892177421306343426           6514           33819\n",
       "2  891815181378084864           4328           25461\n",
       "3  891689557279858688           8964           42908\n",
       "4  891327558926688256           9774           41048"
      ]
     },
     "execution_count": 146,
     "metadata": {},
     "output_type": "execute_result"
    }
   ],
   "source": [
    "# Les premières observations de df_tweet_data\n",
    "df_tweet_data.head()"
   ]
  },
  {
   "cell_type": "code",
   "execution_count": 147,
   "id": "2cdbf746",
   "metadata": {},
   "outputs": [
    {
     "data": {
      "text/html": [
       "<div>\n",
       "<style scoped>\n",
       "    .dataframe tbody tr th:only-of-type {\n",
       "        vertical-align: middle;\n",
       "    }\n",
       "\n",
       "    .dataframe tbody tr th {\n",
       "        vertical-align: top;\n",
       "    }\n",
       "\n",
       "    .dataframe thead th {\n",
       "        text-align: right;\n",
       "    }\n",
       "</style>\n",
       "<table border=\"1\" class=\"dataframe\">\n",
       "  <thead>\n",
       "    <tr style=\"text-align: right;\">\n",
       "      <th></th>\n",
       "      <th>tweet_id</th>\n",
       "      <th>retweet_count</th>\n",
       "      <th>favorite_count</th>\n",
       "    </tr>\n",
       "  </thead>\n",
       "  <tbody>\n",
       "    <tr>\n",
       "      <th>1172</th>\n",
       "      <td>720059472081784833</td>\n",
       "      <td>1268</td>\n",
       "      <td>4229</td>\n",
       "    </tr>\n",
       "    <tr>\n",
       "      <th>218</th>\n",
       "      <td>850145622816686080</td>\n",
       "      <td>4244</td>\n",
       "      <td>17519</td>\n",
       "    </tr>\n",
       "    <tr>\n",
       "      <th>2203</th>\n",
       "      <td>668633411083464705</td>\n",
       "      <td>1788</td>\n",
       "      <td>3024</td>\n",
       "    </tr>\n",
       "    <tr>\n",
       "      <th>1731</th>\n",
       "      <td>679777920601223168</td>\n",
       "      <td>1281</td>\n",
       "      <td>3390</td>\n",
       "    </tr>\n",
       "    <tr>\n",
       "      <th>1135</th>\n",
       "      <td>728046963732717569</td>\n",
       "      <td>1328</td>\n",
       "      <td>4722</td>\n",
       "    </tr>\n",
       "  </tbody>\n",
       "</table>\n",
       "</div>"
      ],
      "text/plain": [
       "                tweet_id  retweet_count  favorite_count\n",
       "1172  720059472081784833           1268            4229\n",
       "218   850145622816686080           4244           17519\n",
       "2203  668633411083464705           1788            3024\n",
       "1731  679777920601223168           1281            3390\n",
       "1135  728046963732717569           1328            4722"
      ]
     },
     "execution_count": 147,
     "metadata": {},
     "output_type": "execute_result"
    }
   ],
   "source": [
    "# 05 observations par hasard de df_tweet_data\n",
    "df_tweet_data.sample(5)"
   ]
  },
  {
   "cell_type": "code",
   "execution_count": 148,
   "id": "9f175aa7",
   "metadata": {},
   "outputs": [
    {
     "data": {
      "text/plain": [
       "(2354, 3)"
      ]
     },
     "execution_count": 148,
     "metadata": {},
     "output_type": "execute_result"
    }
   ],
   "source": [
    "# Dimension de df_tweet_data\n",
    "df_tweet_data.shape"
   ]
  },
  {
   "cell_type": "code",
   "execution_count": 149,
   "id": "71a8e8d0",
   "metadata": {},
   "outputs": [
    {
     "data": {
      "text/plain": [
       "Index(['tweet_id', 'retweet_count', 'favorite_count'], dtype='object')"
      ]
     },
     "execution_count": 149,
     "metadata": {},
     "output_type": "execute_result"
    }
   ],
   "source": [
    "# Nom des différentes colonnes de df_tweet_data\n",
    "df_tweet_data.columns"
   ]
  },
  {
   "cell_type": "code",
   "execution_count": 150,
   "id": "93c6b7af",
   "metadata": {},
   "outputs": [
    {
     "name": "stdout",
     "output_type": "stream",
     "text": [
      "<class 'pandas.core.frame.DataFrame'>\n",
      "RangeIndex: 2354 entries, 0 to 2353\n",
      "Data columns (total 3 columns):\n",
      " #   Column          Non-Null Count  Dtype\n",
      "---  ------          --------------  -----\n",
      " 0   tweet_id        2354 non-null   int64\n",
      " 1   retweet_count   2354 non-null   int64\n",
      " 2   favorite_count  2354 non-null   int64\n",
      "dtypes: int64(3)\n",
      "memory usage: 55.3 KB\n"
     ]
    }
   ],
   "source": [
    "# Les manquants et type de df_tweet_data\n",
    "df_tweet_data.info()"
   ]
  },
  {
   "cell_type": "markdown",
   "id": "51db4777",
   "metadata": {},
   "source": [
    "Nous allons à présent identifier les problèmes de structure et de qualité des trois (03) bases de données puis passer au nettoyage proprement parlé."
   ]
  },
  {
   "cell_type": "markdown",
   "id": "2074b087",
   "metadata": {},
   "source": [
    "<a id='structure'></a>\n",
    "### 3.2 Problèmes de structures"
   ]
  },
  {
   "cell_type": "markdown",
   "id": "fcbfd272",
   "metadata": {},
   "source": [
    "- Les noms des espéces de chiens (doggo, floofer, pupper, puppo) sont séparés en quatre (04) colonnes différentes.\n",
    "- Toutes ces bases de données sont liées mais séparées en trois (03) bases de données distinctes."
   ]
  },
  {
   "cell_type": "markdown",
   "id": "ddc2a20c",
   "metadata": {},
   "source": [
    "<a id='qualité'></a>\n",
    "### 3.3 Problèmes de qualités"
   ]
  },
  {
   "cell_type": "markdown",
   "id": "4102ff65",
   "metadata": {},
   "source": [
    "### A. Base des Archives de Twitter Améliorées"
   ]
  },
  {
   "cell_type": "markdown",
   "id": "5642beca",
   "metadata": {},
   "source": [
    "- Il y a 181 retweets comme indique retweeted_status_id.\n",
    "- Le type de tweet_id doit être une chaîne au lieu d'un entier.\n",
    "- Timestamp devrait être sous format date (datetime).\n",
    "- Certains identifiants des chiens ont des photos manquantes.\n",
    "- Certaines valeurs (440) dans la colonne rating_denominator ne sont pas 10.\n",
    "- Quelques valeurs dans la colonne rating_numerator sont inférieures à 10.\n",
    "- Quelques valeurs dans la colonne rating_numerator sont égales à zéro\n",
    "- retweeted_status_timestamp doit être supprimé car nous nous intéressons au tweet.\n",
    "- Les Valeurs nulles sont représentées par (None) dans la colonne name.\n",
    "- certaines des lignes expand_urls ont 2 URL et nous avons juste besoin d'un lien tweeter.\n",
    "- 59 valeurs manquantes dans la colonne expanded_urls."
   ]
  },
  {
   "cell_type": "markdown",
   "id": "da43d4cb",
   "metadata": {},
   "source": [
    "### B. Base des Tweets de Prédictions d'Image"
   ]
  },
  {
   "cell_type": "markdown",
   "id": "cf937b39",
   "metadata": {},
   "source": [
    "- Certaines lettres en p commencent par une lettre majuscule tandis que d'autres sont en minuscule.\n",
    "- tweet_id doit être une chaine de caractère et non un entier."
   ]
  },
  {
   "cell_type": "markdown",
   "id": "2bb380e4",
   "metadata": {},
   "source": [
    "### C. Base des Tweets via l'API de Tweeter"
   ]
  },
  {
   "cell_type": "markdown",
   "id": "e4c60406",
   "metadata": {},
   "source": [
    "- Le nom des identifiants des colonnes doit être tweet_id au lieu de id.\n",
    "- tweet_id doit être une chaîne et non un entier."
   ]
  },
  {
   "cell_type": "markdown",
   "id": "997c423a",
   "metadata": {},
   "source": [
    "<a id='nettoyer'></a>\n",
    "## 4. Nettoyage des données"
   ]
  },
  {
   "cell_type": "markdown",
   "id": "69da149e",
   "metadata": {},
   "source": [
    "### A. Copies des données"
   ]
  },
  {
   "cell_type": "code",
   "execution_count": 151,
   "id": "fdd21831",
   "metadata": {},
   "outputs": [],
   "source": [
    "# Copie de chacunes de ces bases\n",
    "clean_archive = df_twitter_archive.copy()\n",
    "clean_image = df_image_prediction.copy()\n",
    "clean_tweet = df_tweet_data.copy()"
   ]
  },
  {
   "cell_type": "code",
   "execution_count": 152,
   "id": "419f6b37",
   "metadata": {},
   "outputs": [
    {
     "data": {
      "text/html": [
       "<div>\n",
       "<style scoped>\n",
       "    .dataframe tbody tr th:only-of-type {\n",
       "        vertical-align: middle;\n",
       "    }\n",
       "\n",
       "    .dataframe tbody tr th {\n",
       "        vertical-align: top;\n",
       "    }\n",
       "\n",
       "    .dataframe thead th {\n",
       "        text-align: right;\n",
       "    }\n",
       "</style>\n",
       "<table border=\"1\" class=\"dataframe\">\n",
       "  <thead>\n",
       "    <tr style=\"text-align: right;\">\n",
       "      <th></th>\n",
       "      <th>tweet_id</th>\n",
       "      <th>in_reply_to_status_id</th>\n",
       "      <th>in_reply_to_user_id</th>\n",
       "      <th>timestamp</th>\n",
       "      <th>source</th>\n",
       "      <th>text</th>\n",
       "      <th>retweeted_status_id</th>\n",
       "      <th>retweeted_status_user_id</th>\n",
       "      <th>retweeted_status_timestamp</th>\n",
       "      <th>expanded_urls</th>\n",
       "      <th>rating_numerator</th>\n",
       "      <th>rating_denominator</th>\n",
       "      <th>name</th>\n",
       "      <th>doggo</th>\n",
       "      <th>floofer</th>\n",
       "      <th>pupper</th>\n",
       "      <th>puppo</th>\n",
       "    </tr>\n",
       "  </thead>\n",
       "  <tbody>\n",
       "    <tr>\n",
       "      <th>0</th>\n",
       "      <td>892420643555336193</td>\n",
       "      <td>NaN</td>\n",
       "      <td>NaN</td>\n",
       "      <td>2017-08-01 16:23:56 +0000</td>\n",
       "      <td>&lt;a href=\"http://twitter.com/download/iphone\" r...</td>\n",
       "      <td>This is Phineas. He's a mystical boy. Only eve...</td>\n",
       "      <td>NaN</td>\n",
       "      <td>NaN</td>\n",
       "      <td>NaN</td>\n",
       "      <td>https://twitter.com/dog_rates/status/892420643...</td>\n",
       "      <td>13</td>\n",
       "      <td>10</td>\n",
       "      <td>Phineas</td>\n",
       "      <td>None</td>\n",
       "      <td>None</td>\n",
       "      <td>None</td>\n",
       "      <td>None</td>\n",
       "    </tr>\n",
       "    <tr>\n",
       "      <th>1</th>\n",
       "      <td>892177421306343426</td>\n",
       "      <td>NaN</td>\n",
       "      <td>NaN</td>\n",
       "      <td>2017-08-01 00:17:27 +0000</td>\n",
       "      <td>&lt;a href=\"http://twitter.com/download/iphone\" r...</td>\n",
       "      <td>This is Tilly. She's just checking pup on you....</td>\n",
       "      <td>NaN</td>\n",
       "      <td>NaN</td>\n",
       "      <td>NaN</td>\n",
       "      <td>https://twitter.com/dog_rates/status/892177421...</td>\n",
       "      <td>13</td>\n",
       "      <td>10</td>\n",
       "      <td>Tilly</td>\n",
       "      <td>None</td>\n",
       "      <td>None</td>\n",
       "      <td>None</td>\n",
       "      <td>None</td>\n",
       "    </tr>\n",
       "  </tbody>\n",
       "</table>\n",
       "</div>"
      ],
      "text/plain": [
       "             tweet_id  in_reply_to_status_id  in_reply_to_user_id  \\\n",
       "0  892420643555336193                    NaN                  NaN   \n",
       "1  892177421306343426                    NaN                  NaN   \n",
       "\n",
       "                   timestamp  \\\n",
       "0  2017-08-01 16:23:56 +0000   \n",
       "1  2017-08-01 00:17:27 +0000   \n",
       "\n",
       "                                              source  \\\n",
       "0  <a href=\"http://twitter.com/download/iphone\" r...   \n",
       "1  <a href=\"http://twitter.com/download/iphone\" r...   \n",
       "\n",
       "                                                text  retweeted_status_id  \\\n",
       "0  This is Phineas. He's a mystical boy. Only eve...                  NaN   \n",
       "1  This is Tilly. She's just checking pup on you....                  NaN   \n",
       "\n",
       "   retweeted_status_user_id retweeted_status_timestamp  \\\n",
       "0                       NaN                        NaN   \n",
       "1                       NaN                        NaN   \n",
       "\n",
       "                                       expanded_urls  rating_numerator  \\\n",
       "0  https://twitter.com/dog_rates/status/892420643...                13   \n",
       "1  https://twitter.com/dog_rates/status/892177421...                13   \n",
       "\n",
       "   rating_denominator     name doggo floofer pupper puppo  \n",
       "0                  10  Phineas  None    None   None  None  \n",
       "1                  10    Tilly  None    None   None  None  "
      ]
     },
     "execution_count": 152,
     "metadata": {},
     "output_type": "execute_result"
    }
   ],
   "source": [
    "# Observation de clean_archive\n",
    "clean_archive.head(2)"
   ]
  },
  {
   "cell_type": "code",
   "execution_count": 153,
   "id": "f9eac6aa",
   "metadata": {},
   "outputs": [
    {
     "data": {
      "text/html": [
       "<div>\n",
       "<style scoped>\n",
       "    .dataframe tbody tr th:only-of-type {\n",
       "        vertical-align: middle;\n",
       "    }\n",
       "\n",
       "    .dataframe tbody tr th {\n",
       "        vertical-align: top;\n",
       "    }\n",
       "\n",
       "    .dataframe thead th {\n",
       "        text-align: right;\n",
       "    }\n",
       "</style>\n",
       "<table border=\"1\" class=\"dataframe\">\n",
       "  <thead>\n",
       "    <tr style=\"text-align: right;\">\n",
       "      <th></th>\n",
       "      <th>tweet_id</th>\n",
       "      <th>jpg_url</th>\n",
       "      <th>img_num</th>\n",
       "      <th>p1</th>\n",
       "      <th>p1_conf</th>\n",
       "      <th>p1_dog</th>\n",
       "      <th>p2</th>\n",
       "      <th>p2_conf</th>\n",
       "      <th>p2_dog</th>\n",
       "      <th>p3</th>\n",
       "      <th>p3_conf</th>\n",
       "      <th>p3_dog</th>\n",
       "    </tr>\n",
       "  </thead>\n",
       "  <tbody>\n",
       "    <tr>\n",
       "      <th>0</th>\n",
       "      <td>666020888022790149</td>\n",
       "      <td>https://pbs.twimg.com/media/CT4udn0WwAA0aMy.jpg</td>\n",
       "      <td>1</td>\n",
       "      <td>Welsh_springer_spaniel</td>\n",
       "      <td>0.465074</td>\n",
       "      <td>True</td>\n",
       "      <td>collie</td>\n",
       "      <td>0.156665</td>\n",
       "      <td>True</td>\n",
       "      <td>Shetland_sheepdog</td>\n",
       "      <td>0.061428</td>\n",
       "      <td>True</td>\n",
       "    </tr>\n",
       "    <tr>\n",
       "      <th>1</th>\n",
       "      <td>666029285002620928</td>\n",
       "      <td>https://pbs.twimg.com/media/CT42GRgUYAA5iDo.jpg</td>\n",
       "      <td>1</td>\n",
       "      <td>redbone</td>\n",
       "      <td>0.506826</td>\n",
       "      <td>True</td>\n",
       "      <td>miniature_pinscher</td>\n",
       "      <td>0.074192</td>\n",
       "      <td>True</td>\n",
       "      <td>Rhodesian_ridgeback</td>\n",
       "      <td>0.072010</td>\n",
       "      <td>True</td>\n",
       "    </tr>\n",
       "    <tr>\n",
       "      <th>2</th>\n",
       "      <td>666033412701032449</td>\n",
       "      <td>https://pbs.twimg.com/media/CT4521TWwAEvMyu.jpg</td>\n",
       "      <td>1</td>\n",
       "      <td>German_shepherd</td>\n",
       "      <td>0.596461</td>\n",
       "      <td>True</td>\n",
       "      <td>malinois</td>\n",
       "      <td>0.138584</td>\n",
       "      <td>True</td>\n",
       "      <td>bloodhound</td>\n",
       "      <td>0.116197</td>\n",
       "      <td>True</td>\n",
       "    </tr>\n",
       "  </tbody>\n",
       "</table>\n",
       "</div>"
      ],
      "text/plain": [
       "             tweet_id                                          jpg_url  \\\n",
       "0  666020888022790149  https://pbs.twimg.com/media/CT4udn0WwAA0aMy.jpg   \n",
       "1  666029285002620928  https://pbs.twimg.com/media/CT42GRgUYAA5iDo.jpg   \n",
       "2  666033412701032449  https://pbs.twimg.com/media/CT4521TWwAEvMyu.jpg   \n",
       "\n",
       "   img_num                      p1   p1_conf  p1_dog                  p2  \\\n",
       "0        1  Welsh_springer_spaniel  0.465074    True              collie   \n",
       "1        1                 redbone  0.506826    True  miniature_pinscher   \n",
       "2        1         German_shepherd  0.596461    True            malinois   \n",
       "\n",
       "    p2_conf  p2_dog                   p3   p3_conf  p3_dog  \n",
       "0  0.156665    True    Shetland_sheepdog  0.061428    True  \n",
       "1  0.074192    True  Rhodesian_ridgeback  0.072010    True  \n",
       "2  0.138584    True           bloodhound  0.116197    True  "
      ]
     },
     "execution_count": 153,
     "metadata": {},
     "output_type": "execute_result"
    }
   ],
   "source": [
    "# Observation de clean_image\n",
    "clean_image.head(3)"
   ]
  },
  {
   "cell_type": "code",
   "execution_count": 154,
   "id": "a6a8e5d6",
   "metadata": {
    "scrolled": true
   },
   "outputs": [
    {
     "data": {
      "text/html": [
       "<div>\n",
       "<style scoped>\n",
       "    .dataframe tbody tr th:only-of-type {\n",
       "        vertical-align: middle;\n",
       "    }\n",
       "\n",
       "    .dataframe tbody tr th {\n",
       "        vertical-align: top;\n",
       "    }\n",
       "\n",
       "    .dataframe thead th {\n",
       "        text-align: right;\n",
       "    }\n",
       "</style>\n",
       "<table border=\"1\" class=\"dataframe\">\n",
       "  <thead>\n",
       "    <tr style=\"text-align: right;\">\n",
       "      <th></th>\n",
       "      <th>tweet_id</th>\n",
       "      <th>retweet_count</th>\n",
       "      <th>favorite_count</th>\n",
       "    </tr>\n",
       "  </thead>\n",
       "  <tbody>\n",
       "    <tr>\n",
       "      <th>0</th>\n",
       "      <td>892420643555336193</td>\n",
       "      <td>8853</td>\n",
       "      <td>39467</td>\n",
       "    </tr>\n",
       "    <tr>\n",
       "      <th>1</th>\n",
       "      <td>892177421306343426</td>\n",
       "      <td>6514</td>\n",
       "      <td>33819</td>\n",
       "    </tr>\n",
       "    <tr>\n",
       "      <th>2</th>\n",
       "      <td>891815181378084864</td>\n",
       "      <td>4328</td>\n",
       "      <td>25461</td>\n",
       "    </tr>\n",
       "  </tbody>\n",
       "</table>\n",
       "</div>"
      ],
      "text/plain": [
       "             tweet_id  retweet_count  favorite_count\n",
       "0  892420643555336193           8853           39467\n",
       "1  892177421306343426           6514           33819\n",
       "2  891815181378084864           4328           25461"
      ]
     },
     "execution_count": 154,
     "metadata": {},
     "output_type": "execute_result"
    }
   ],
   "source": [
    "# Observation de clean_tweet\n",
    "clean_tweet.head(3)"
   ]
  },
  {
   "cell_type": "markdown",
   "id": "14b40da3",
   "metadata": {},
   "source": [
    "### B. Résolution des Problèmes de Structures\n"
   ]
  },
  {
   "cell_type": "markdown",
   "id": "0dd05c85",
   "metadata": {},
   "source": [
    "- **Les noms des espéces de chiens (doggo, floofer, pupper, puppo) sont séparés en quatre (04) colonnes différentes.** "
   ]
  },
  {
   "cell_type": "markdown",
   "id": "5d1b59c5",
   "metadata": {},
   "source": [
    "#### Définir"
   ]
  },
  {
   "cell_type": "markdown",
   "id": "52c1b3a0",
   "metadata": {},
   "source": [
    "Combiner les quatre (04) colonnes en une seule appelée dog_stage."
   ]
  },
  {
   "cell_type": "markdown",
   "id": "a475e928",
   "metadata": {},
   "source": [
    "#### Coder"
   ]
  },
  {
   "cell_type": "code",
   "execution_count": 155,
   "id": "0b2cefff",
   "metadata": {},
   "outputs": [
    {
     "data": {
      "text/html": [
       "<div>\n",
       "<style scoped>\n",
       "    .dataframe tbody tr th:only-of-type {\n",
       "        vertical-align: middle;\n",
       "    }\n",
       "\n",
       "    .dataframe tbody tr th {\n",
       "        vertical-align: top;\n",
       "    }\n",
       "\n",
       "    .dataframe thead th {\n",
       "        text-align: right;\n",
       "    }\n",
       "</style>\n",
       "<table border=\"1\" class=\"dataframe\">\n",
       "  <thead>\n",
       "    <tr style=\"text-align: right;\">\n",
       "      <th></th>\n",
       "      <th>tweet_id</th>\n",
       "      <th>in_reply_to_status_id</th>\n",
       "      <th>in_reply_to_user_id</th>\n",
       "      <th>timestamp</th>\n",
       "      <th>source</th>\n",
       "      <th>text</th>\n",
       "      <th>retweeted_status_id</th>\n",
       "      <th>retweeted_status_user_id</th>\n",
       "      <th>retweeted_status_timestamp</th>\n",
       "      <th>expanded_urls</th>\n",
       "      <th>rating_numerator</th>\n",
       "      <th>rating_denominator</th>\n",
       "      <th>name</th>\n",
       "      <th>doggo</th>\n",
       "      <th>floofer</th>\n",
       "      <th>pupper</th>\n",
       "      <th>puppo</th>\n",
       "      <th>dog_stage</th>\n",
       "    </tr>\n",
       "  </thead>\n",
       "  <tbody>\n",
       "    <tr>\n",
       "      <th>0</th>\n",
       "      <td>892420643555336193</td>\n",
       "      <td>NaN</td>\n",
       "      <td>NaN</td>\n",
       "      <td>2017-08-01 16:23:56 +0000</td>\n",
       "      <td>&lt;a href=\"http://twitter.com/download/iphone\" r...</td>\n",
       "      <td>This is Phineas. He's a mystical boy. Only eve...</td>\n",
       "      <td>NaN</td>\n",
       "      <td>NaN</td>\n",
       "      <td>NaN</td>\n",
       "      <td>https://twitter.com/dog_rates/status/892420643...</td>\n",
       "      <td>13</td>\n",
       "      <td>10</td>\n",
       "      <td>Phineas</td>\n",
       "      <td>None</td>\n",
       "      <td>None</td>\n",
       "      <td>None</td>\n",
       "      <td>None</td>\n",
       "      <td>NaN</td>\n",
       "    </tr>\n",
       "    <tr>\n",
       "      <th>1</th>\n",
       "      <td>892177421306343426</td>\n",
       "      <td>NaN</td>\n",
       "      <td>NaN</td>\n",
       "      <td>2017-08-01 00:17:27 +0000</td>\n",
       "      <td>&lt;a href=\"http://twitter.com/download/iphone\" r...</td>\n",
       "      <td>This is Tilly. She's just checking pup on you....</td>\n",
       "      <td>NaN</td>\n",
       "      <td>NaN</td>\n",
       "      <td>NaN</td>\n",
       "      <td>https://twitter.com/dog_rates/status/892177421...</td>\n",
       "      <td>13</td>\n",
       "      <td>10</td>\n",
       "      <td>Tilly</td>\n",
       "      <td>None</td>\n",
       "      <td>None</td>\n",
       "      <td>None</td>\n",
       "      <td>None</td>\n",
       "      <td>NaN</td>\n",
       "    </tr>\n",
       "    <tr>\n",
       "      <th>2</th>\n",
       "      <td>891815181378084864</td>\n",
       "      <td>NaN</td>\n",
       "      <td>NaN</td>\n",
       "      <td>2017-07-31 00:18:03 +0000</td>\n",
       "      <td>&lt;a href=\"http://twitter.com/download/iphone\" r...</td>\n",
       "      <td>This is Archie. He is a rare Norwegian Pouncin...</td>\n",
       "      <td>NaN</td>\n",
       "      <td>NaN</td>\n",
       "      <td>NaN</td>\n",
       "      <td>https://twitter.com/dog_rates/status/891815181...</td>\n",
       "      <td>12</td>\n",
       "      <td>10</td>\n",
       "      <td>Archie</td>\n",
       "      <td>None</td>\n",
       "      <td>None</td>\n",
       "      <td>None</td>\n",
       "      <td>None</td>\n",
       "      <td>NaN</td>\n",
       "    </tr>\n",
       "  </tbody>\n",
       "</table>\n",
       "</div>"
      ],
      "text/plain": [
       "             tweet_id  in_reply_to_status_id  in_reply_to_user_id  \\\n",
       "0  892420643555336193                    NaN                  NaN   \n",
       "1  892177421306343426                    NaN                  NaN   \n",
       "2  891815181378084864                    NaN                  NaN   \n",
       "\n",
       "                   timestamp  \\\n",
       "0  2017-08-01 16:23:56 +0000   \n",
       "1  2017-08-01 00:17:27 +0000   \n",
       "2  2017-07-31 00:18:03 +0000   \n",
       "\n",
       "                                              source  \\\n",
       "0  <a href=\"http://twitter.com/download/iphone\" r...   \n",
       "1  <a href=\"http://twitter.com/download/iphone\" r...   \n",
       "2  <a href=\"http://twitter.com/download/iphone\" r...   \n",
       "\n",
       "                                                text  retweeted_status_id  \\\n",
       "0  This is Phineas. He's a mystical boy. Only eve...                  NaN   \n",
       "1  This is Tilly. She's just checking pup on you....                  NaN   \n",
       "2  This is Archie. He is a rare Norwegian Pouncin...                  NaN   \n",
       "\n",
       "   retweeted_status_user_id retweeted_status_timestamp  \\\n",
       "0                       NaN                        NaN   \n",
       "1                       NaN                        NaN   \n",
       "2                       NaN                        NaN   \n",
       "\n",
       "                                       expanded_urls  rating_numerator  \\\n",
       "0  https://twitter.com/dog_rates/status/892420643...                13   \n",
       "1  https://twitter.com/dog_rates/status/892177421...                13   \n",
       "2  https://twitter.com/dog_rates/status/891815181...                12   \n",
       "\n",
       "   rating_denominator     name doggo floofer pupper puppo dog_stage  \n",
       "0                  10  Phineas  None    None   None  None       NaN  \n",
       "1                  10    Tilly  None    None   None  None       NaN  \n",
       "2                  10   Archie  None    None   None  None       NaN  "
      ]
     },
     "execution_count": 155,
     "metadata": {},
     "output_type": "execute_result"
    }
   ],
   "source": [
    "# Combiner les (04) colonnes\n",
    "clean_archive['dog_stage'] = clean_archive['text'].str.extract('(doggo|floofer|pupper|puppo)')\n",
    "clean_archive.head(3)"
   ]
  },
  {
   "cell_type": "code",
   "execution_count": 156,
   "id": "70eb6368",
   "metadata": {},
   "outputs": [],
   "source": [
    "# Supprimer les colonnes doggo floofer pupper et puppo\n",
    "clean_archive = clean_archive.drop(columns = ['doggo', 'floofer', 'pupper', 'puppo'])"
   ]
  },
  {
   "cell_type": "markdown",
   "id": "14a8b1b5",
   "metadata": {},
   "source": [
    "#### Tester"
   ]
  },
  {
   "cell_type": "code",
   "execution_count": 157,
   "id": "a480d8b4",
   "metadata": {},
   "outputs": [
    {
     "data": {
      "text/plain": [
       "Index(['tweet_id', 'in_reply_to_status_id', 'in_reply_to_user_id', 'timestamp',\n",
       "       'source', 'text', 'retweeted_status_id', 'retweeted_status_user_id',\n",
       "       'retweeted_status_timestamp', 'expanded_urls', 'rating_numerator',\n",
       "       'rating_denominator', 'name', 'dog_stage'],\n",
       "      dtype='object')"
      ]
     },
     "execution_count": 157,
     "metadata": {},
     "output_type": "execute_result"
    }
   ],
   "source": [
    "# Nom des variables désormais de clean_archive\n",
    "clean_archive.columns"
   ]
  },
  {
   "cell_type": "code",
   "execution_count": 158,
   "id": "a29c1c41",
   "metadata": {},
   "outputs": [
    {
     "data": {
      "text/plain": [
       "pupper     265\n",
       "doggo       93\n",
       "puppo       37\n",
       "floofer      4\n",
       "Name: dog_stage, dtype: int64"
      ]
     },
     "execution_count": 158,
     "metadata": {},
     "output_type": "execute_result"
    }
   ],
   "source": [
    "# Les différentes catégories de dog_stage\n",
    "clean_archive['dog_stage'].value_counts()"
   ]
  },
  {
   "cell_type": "markdown",
   "id": "a7971150",
   "metadata": {},
   "source": [
    "- **Toutes nos données sont liées mais séparées en trois (03) bases de données.**"
   ]
  },
  {
   "cell_type": "markdown",
   "id": "951b1cd4",
   "metadata": {},
   "source": [
    "#### Définir"
   ]
  },
  {
   "cell_type": "markdown",
   "id": "952731ae",
   "metadata": {},
   "source": [
    "Combiner ces (03) dataframes en une seule base."
   ]
  },
  {
   "cell_type": "markdown",
   "id": "c7a2e56d",
   "metadata": {},
   "source": [
    "#### Coder"
   ]
  },
  {
   "cell_type": "code",
   "execution_count": 159,
   "id": "4b2d28f8",
   "metadata": {},
   "outputs": [],
   "source": [
    "# Fusionner les bases clean_archive et clean_tweet\n",
    "clean_archive_df = pd.merge(clean_archive, clean_tweet, on = 'tweet_id', how = 'left')"
   ]
  },
  {
   "cell_type": "code",
   "execution_count": 160,
   "id": "f1c06887",
   "metadata": {},
   "outputs": [],
   "source": [
    "# Fusionner clean_df et clean_image\n",
    "clean_archive_data = pd.merge(clean_archive_df, clean_image, on = 'tweet_id', how = 'left')"
   ]
  },
  {
   "cell_type": "markdown",
   "id": "fd9b6418",
   "metadata": {},
   "source": [
    "#### Tester"
   ]
  },
  {
   "cell_type": "code",
   "execution_count": 161,
   "id": "ad8133fa",
   "metadata": {},
   "outputs": [
    {
     "name": "stdout",
     "output_type": "stream",
     "text": [
      "<class 'pandas.core.frame.DataFrame'>\n",
      "Int64Index: 2356 entries, 0 to 2355\n",
      "Data columns (total 27 columns):\n",
      " #   Column                      Non-Null Count  Dtype  \n",
      "---  ------                      --------------  -----  \n",
      " 0   tweet_id                    2356 non-null   int64  \n",
      " 1   in_reply_to_status_id       78 non-null     float64\n",
      " 2   in_reply_to_user_id         78 non-null     float64\n",
      " 3   timestamp                   2356 non-null   object \n",
      " 4   source                      2356 non-null   object \n",
      " 5   text                        2356 non-null   object \n",
      " 6   retweeted_status_id         181 non-null    float64\n",
      " 7   retweeted_status_user_id    181 non-null    float64\n",
      " 8   retweeted_status_timestamp  181 non-null    object \n",
      " 9   expanded_urls               2297 non-null   object \n",
      " 10  rating_numerator            2356 non-null   int64  \n",
      " 11  rating_denominator          2356 non-null   int64  \n",
      " 12  name                        2356 non-null   object \n",
      " 13  dog_stage                   399 non-null    object \n",
      " 14  retweet_count               2354 non-null   float64\n",
      " 15  favorite_count              2354 non-null   float64\n",
      " 16  jpg_url                     2075 non-null   object \n",
      " 17  img_num                     2075 non-null   float64\n",
      " 18  p1                          2075 non-null   object \n",
      " 19  p1_conf                     2075 non-null   float64\n",
      " 20  p1_dog                      2075 non-null   object \n",
      " 21  p2                          2075 non-null   object \n",
      " 22  p2_conf                     2075 non-null   float64\n",
      " 23  p2_dog                      2075 non-null   object \n",
      " 24  p3                          2075 non-null   object \n",
      " 25  p3_conf                     2075 non-null   float64\n",
      " 26  p3_dog                      2075 non-null   object \n",
      "dtypes: float64(10), int64(3), object(14)\n",
      "memory usage: 515.4+ KB\n"
     ]
    }
   ],
   "source": [
    "# Description sommaire de clean_archive_data\n",
    "clean_archive_data.info()"
   ]
  },
  {
   "cell_type": "markdown",
   "id": "11c977aa",
   "metadata": {},
   "source": [
    "### C. Résolution des Problèmes de Qualités"
   ]
  },
  {
   "cell_type": "markdown",
   "id": "9b5d388f",
   "metadata": {},
   "source": [
    "- **Il y a 181 retweets comme indique retweeted_status_id.**"
   ]
  },
  {
   "cell_type": "markdown",
   "id": "0cf8724e",
   "metadata": {},
   "source": [
    "#### Définir"
   ]
  },
  {
   "cell_type": "markdown",
   "id": "87ade95f",
   "metadata": {},
   "source": [
    "Supprimer les lignes retweetées (retweets) et toutes les colonnes associées."
   ]
  },
  {
   "cell_type": "markdown",
   "id": "ec43ec72",
   "metadata": {},
   "source": [
    "#### Coder"
   ]
  },
  {
   "cell_type": "code",
   "execution_count": 162,
   "id": "23134cfa",
   "metadata": {},
   "outputs": [
    {
     "name": "stdout",
     "output_type": "stream",
     "text": [
      "<class 'pandas.core.frame.DataFrame'>\n",
      "Int64Index: 2175 entries, 0 to 2355\n",
      "Data columns (total 27 columns):\n",
      " #   Column                      Non-Null Count  Dtype  \n",
      "---  ------                      --------------  -----  \n",
      " 0   tweet_id                    2175 non-null   int64  \n",
      " 1   in_reply_to_status_id       78 non-null     float64\n",
      " 2   in_reply_to_user_id         78 non-null     float64\n",
      " 3   timestamp                   2175 non-null   object \n",
      " 4   source                      2175 non-null   object \n",
      " 5   text                        2175 non-null   object \n",
      " 6   retweeted_status_id         0 non-null      float64\n",
      " 7   retweeted_status_user_id    0 non-null      float64\n",
      " 8   retweeted_status_timestamp  0 non-null      object \n",
      " 9   expanded_urls               2117 non-null   object \n",
      " 10  rating_numerator            2175 non-null   int64  \n",
      " 11  rating_denominator          2175 non-null   int64  \n",
      " 12  name                        2175 non-null   object \n",
      " 13  dog_stage                   364 non-null    object \n",
      " 14  retweet_count               2175 non-null   float64\n",
      " 15  favorite_count              2175 non-null   float64\n",
      " 16  jpg_url                     1994 non-null   object \n",
      " 17  img_num                     1994 non-null   float64\n",
      " 18  p1                          1994 non-null   object \n",
      " 19  p1_conf                     1994 non-null   float64\n",
      " 20  p1_dog                      1994 non-null   object \n",
      " 21  p2                          1994 non-null   object \n",
      " 22  p2_conf                     1994 non-null   float64\n",
      " 23  p2_dog                      1994 non-null   object \n",
      " 24  p3                          1994 non-null   object \n",
      " 25  p3_conf                     1994 non-null   float64\n",
      " 26  p3_dog                      1994 non-null   object \n",
      "dtypes: float64(10), int64(3), object(14)\n",
      "memory usage: 475.8+ KB\n"
     ]
    }
   ],
   "source": [
    "clean_archive_data = clean_archive_data[clean_archive_data.retweeted_status_id.isnull()]\n",
    "clean_archive_data.info()"
   ]
  },
  {
   "cell_type": "code",
   "execution_count": 163,
   "id": "de9ed150",
   "metadata": {},
   "outputs": [],
   "source": [
    "# Supprimer toutes les colonnes associées\n",
    "clean_archive_data = clean_archive_data.drop(columns = ['retweeted_status_id', 'retweeted_status_user_id', 'retweeted_status_timestamp'])"
   ]
  },
  {
   "cell_type": "markdown",
   "id": "29667379",
   "metadata": {},
   "source": [
    "#### Tester"
   ]
  },
  {
   "cell_type": "code",
   "execution_count": 164,
   "id": "7e29fc13",
   "metadata": {},
   "outputs": [
    {
     "name": "stdout",
     "output_type": "stream",
     "text": [
      "<class 'pandas.core.frame.DataFrame'>\n",
      "Int64Index: 2175 entries, 0 to 2355\n",
      "Data columns (total 24 columns):\n",
      " #   Column                 Non-Null Count  Dtype  \n",
      "---  ------                 --------------  -----  \n",
      " 0   tweet_id               2175 non-null   int64  \n",
      " 1   in_reply_to_status_id  78 non-null     float64\n",
      " 2   in_reply_to_user_id    78 non-null     float64\n",
      " 3   timestamp              2175 non-null   object \n",
      " 4   source                 2175 non-null   object \n",
      " 5   text                   2175 non-null   object \n",
      " 6   expanded_urls          2117 non-null   object \n",
      " 7   rating_numerator       2175 non-null   int64  \n",
      " 8   rating_denominator     2175 non-null   int64  \n",
      " 9   name                   2175 non-null   object \n",
      " 10  dog_stage              364 non-null    object \n",
      " 11  retweet_count          2175 non-null   float64\n",
      " 12  favorite_count         2175 non-null   float64\n",
      " 13  jpg_url                1994 non-null   object \n",
      " 14  img_num                1994 non-null   float64\n",
      " 15  p1                     1994 non-null   object \n",
      " 16  p1_conf                1994 non-null   float64\n",
      " 17  p1_dog                 1994 non-null   object \n",
      " 18  p2                     1994 non-null   object \n",
      " 19  p2_conf                1994 non-null   float64\n",
      " 20  p2_dog                 1994 non-null   object \n",
      " 21  p3                     1994 non-null   object \n",
      " 22  p3_conf                1994 non-null   float64\n",
      " 23  p3_dog                 1994 non-null   object \n",
      "dtypes: float64(8), int64(3), object(13)\n",
      "memory usage: 424.8+ KB\n"
     ]
    }
   ],
   "source": [
    "# Description sommaire de clean_archive_data\n",
    "clean_archive_data.info()"
   ]
  },
  {
   "cell_type": "markdown",
   "id": "ed18083d",
   "metadata": {},
   "source": [
    "- **Le type de tweet_id doit être une chaîne de caractère au lieu d'un entier.**"
   ]
  },
  {
   "cell_type": "markdown",
   "id": "8aefb34b",
   "metadata": {},
   "source": [
    "#### Définir"
   ]
  },
  {
   "cell_type": "markdown",
   "id": "b90ac0fd",
   "metadata": {},
   "source": [
    "Convertissons tweet_id en chaîne."
   ]
  },
  {
   "cell_type": "markdown",
   "id": "9af715de",
   "metadata": {},
   "source": [
    "#### Coder"
   ]
  },
  {
   "cell_type": "code",
   "execution_count": 165,
   "id": "93659230",
   "metadata": {},
   "outputs": [],
   "source": [
    "# Convertir tweet_id en chaîne de caractère\n",
    "clean_archive_data.tweet_id = clean_archive_data.tweet_id.astype(str)"
   ]
  },
  {
   "cell_type": "markdown",
   "id": "a4dc15f0",
   "metadata": {},
   "source": [
    "#### Tester"
   ]
  },
  {
   "cell_type": "code",
   "execution_count": 166,
   "id": "30073bdf",
   "metadata": {},
   "outputs": [
    {
     "name": "stdout",
     "output_type": "stream",
     "text": [
      "<class 'pandas.core.frame.DataFrame'>\n",
      "Int64Index: 2175 entries, 0 to 2355\n",
      "Data columns (total 24 columns):\n",
      " #   Column                 Non-Null Count  Dtype  \n",
      "---  ------                 --------------  -----  \n",
      " 0   tweet_id               2175 non-null   object \n",
      " 1   in_reply_to_status_id  78 non-null     float64\n",
      " 2   in_reply_to_user_id    78 non-null     float64\n",
      " 3   timestamp              2175 non-null   object \n",
      " 4   source                 2175 non-null   object \n",
      " 5   text                   2175 non-null   object \n",
      " 6   expanded_urls          2117 non-null   object \n",
      " 7   rating_numerator       2175 non-null   int64  \n",
      " 8   rating_denominator     2175 non-null   int64  \n",
      " 9   name                   2175 non-null   object \n",
      " 10  dog_stage              364 non-null    object \n",
      " 11  retweet_count          2175 non-null   float64\n",
      " 12  favorite_count         2175 non-null   float64\n",
      " 13  jpg_url                1994 non-null   object \n",
      " 14  img_num                1994 non-null   float64\n",
      " 15  p1                     1994 non-null   object \n",
      " 16  p1_conf                1994 non-null   float64\n",
      " 17  p1_dog                 1994 non-null   object \n",
      " 18  p2                     1994 non-null   object \n",
      " 19  p2_conf                1994 non-null   float64\n",
      " 20  p2_dog                 1994 non-null   object \n",
      " 21  p3                     1994 non-null   object \n",
      " 22  p3_conf                1994 non-null   float64\n",
      " 23  p3_dog                 1994 non-null   object \n",
      "dtypes: float64(8), int64(2), object(14)\n",
      "memory usage: 424.8+ KB\n"
     ]
    }
   ],
   "source": [
    "# Vérifier alors le type de tweet_id\n",
    "clean_archive_data.info()"
   ]
  },
  {
   "cell_type": "markdown",
   "id": "fc1f794a",
   "metadata": {},
   "source": [
    "- **Timestamp doit être en format date.**"
   ]
  },
  {
   "cell_type": "markdown",
   "id": "e76f5cc9",
   "metadata": {},
   "source": [
    "#### Définir"
   ]
  },
  {
   "cell_type": "markdown",
   "id": "25ff40a5",
   "metadata": {},
   "source": [
    "Converir timestamp sous format date."
   ]
  },
  {
   "cell_type": "markdown",
   "id": "8789f1bf",
   "metadata": {},
   "source": [
    "#### Coder"
   ]
  },
  {
   "cell_type": "code",
   "execution_count": 167,
   "id": "433db938",
   "metadata": {},
   "outputs": [],
   "source": [
    "# Conversion de timestamp en format date\n",
    "clean_archive_data.timestamp = pd.to_datetime(clean_archive_data.timestamp)"
   ]
  },
  {
   "cell_type": "markdown",
   "id": "5d557103",
   "metadata": {},
   "source": [
    "#### Tester"
   ]
  },
  {
   "cell_type": "code",
   "execution_count": 168,
   "id": "b3df7480",
   "metadata": {},
   "outputs": [
    {
     "name": "stdout",
     "output_type": "stream",
     "text": [
      "<class 'pandas.core.frame.DataFrame'>\n",
      "Int64Index: 2175 entries, 0 to 2355\n",
      "Data columns (total 24 columns):\n",
      " #   Column                 Non-Null Count  Dtype              \n",
      "---  ------                 --------------  -----              \n",
      " 0   tweet_id               2175 non-null   object             \n",
      " 1   in_reply_to_status_id  78 non-null     float64            \n",
      " 2   in_reply_to_user_id    78 non-null     float64            \n",
      " 3   timestamp              2175 non-null   datetime64[ns, UTC]\n",
      " 4   source                 2175 non-null   object             \n",
      " 5   text                   2175 non-null   object             \n",
      " 6   expanded_urls          2117 non-null   object             \n",
      " 7   rating_numerator       2175 non-null   int64              \n",
      " 8   rating_denominator     2175 non-null   int64              \n",
      " 9   name                   2175 non-null   object             \n",
      " 10  dog_stage              364 non-null    object             \n",
      " 11  retweet_count          2175 non-null   float64            \n",
      " 12  favorite_count         2175 non-null   float64            \n",
      " 13  jpg_url                1994 non-null   object             \n",
      " 14  img_num                1994 non-null   float64            \n",
      " 15  p1                     1994 non-null   object             \n",
      " 16  p1_conf                1994 non-null   float64            \n",
      " 17  p1_dog                 1994 non-null   object             \n",
      " 18  p2                     1994 non-null   object             \n",
      " 19  p2_conf                1994 non-null   float64            \n",
      " 20  p2_dog                 1994 non-null   object             \n",
      " 21  p3                     1994 non-null   object             \n",
      " 22  p3_conf                1994 non-null   float64            \n",
      " 23  p3_dog                 1994 non-null   object             \n",
      "dtypes: datetime64[ns, UTC](1), float64(8), int64(2), object(13)\n",
      "memory usage: 424.8+ KB\n"
     ]
    }
   ],
   "source": [
    "# Type de données\n",
    "clean_archive_data.info()"
   ]
  },
  {
   "cell_type": "markdown",
   "id": "3e773223",
   "metadata": {},
   "source": [
    "- **Certains identifiant des chiens ont des photos manquantes.**"
   ]
  },
  {
   "cell_type": "markdown",
   "id": "d0e0b0d6",
   "metadata": {},
   "source": [
    "#### Définir"
   ]
  },
  {
   "cell_type": "markdown",
   "id": "aa7f8ee2",
   "metadata": {},
   "source": [
    "Supprimer les lignes des identifiants n'ayant pas de photos."
   ]
  },
  {
   "cell_type": "markdown",
   "id": "aabd241a",
   "metadata": {},
   "source": [
    "#### Coder"
   ]
  },
  {
   "cell_type": "code",
   "execution_count": 169,
   "id": "90a38bfb",
   "metadata": {},
   "outputs": [],
   "source": [
    "# Supprimons les lignes des identifiants sans photos\n",
    "clean_archive_data = clean_archive_data[clean_archive_data.jpg_url.notnull()]"
   ]
  },
  {
   "cell_type": "markdown",
   "id": "6b5a8640",
   "metadata": {},
   "source": [
    "#### Tester"
   ]
  },
  {
   "cell_type": "code",
   "execution_count": 170,
   "id": "f66a5e9b",
   "metadata": {},
   "outputs": [
    {
     "name": "stdout",
     "output_type": "stream",
     "text": [
      "<class 'pandas.core.frame.DataFrame'>\n",
      "Int64Index: 1994 entries, 0 to 2355\n",
      "Data columns (total 24 columns):\n",
      " #   Column                 Non-Null Count  Dtype              \n",
      "---  ------                 --------------  -----              \n",
      " 0   tweet_id               1994 non-null   object             \n",
      " 1   in_reply_to_status_id  23 non-null     float64            \n",
      " 2   in_reply_to_user_id    23 non-null     float64            \n",
      " 3   timestamp              1994 non-null   datetime64[ns, UTC]\n",
      " 4   source                 1994 non-null   object             \n",
      " 5   text                   1994 non-null   object             \n",
      " 6   expanded_urls          1994 non-null   object             \n",
      " 7   rating_numerator       1994 non-null   int64              \n",
      " 8   rating_denominator     1994 non-null   int64              \n",
      " 9   name                   1994 non-null   object             \n",
      " 10  dog_stage              326 non-null    object             \n",
      " 11  retweet_count          1994 non-null   float64            \n",
      " 12  favorite_count         1994 non-null   float64            \n",
      " 13  jpg_url                1994 non-null   object             \n",
      " 14  img_num                1994 non-null   float64            \n",
      " 15  p1                     1994 non-null   object             \n",
      " 16  p1_conf                1994 non-null   float64            \n",
      " 17  p1_dog                 1994 non-null   object             \n",
      " 18  p2                     1994 non-null   object             \n",
      " 19  p2_conf                1994 non-null   float64            \n",
      " 20  p2_dog                 1994 non-null   object             \n",
      " 21  p3                     1994 non-null   object             \n",
      " 22  p3_conf                1994 non-null   float64            \n",
      " 23  p3_dog                 1994 non-null   object             \n",
      "dtypes: datetime64[ns, UTC](1), float64(8), int64(2), object(13)\n",
      "memory usage: 389.5+ KB\n"
     ]
    }
   ],
   "source": [
    "# Types et manquants de clean_archive_data\n",
    "clean_archive_data.info()"
   ]
  },
  {
   "cell_type": "markdown",
   "id": "a63f3527",
   "metadata": {},
   "source": [
    "- **Certaines valeurs dans la colonne rating_denominator ne sont pas 10.**"
   ]
  },
  {
   "cell_type": "markdown",
   "id": "d49b28f4",
   "metadata": {},
   "source": [
    "#### Définir"
   ]
  },
  {
   "cell_type": "markdown",
   "id": "504310a8",
   "metadata": {},
   "source": [
    "Remplacer les valeurs de tout nombre inférieur à 10 par 10."
   ]
  },
  {
   "cell_type": "markdown",
   "id": "3a64ff57",
   "metadata": {},
   "source": [
    "#### Coder"
   ]
  },
  {
   "cell_type": "code",
   "execution_count": 171,
   "id": "c8e3615f",
   "metadata": {},
   "outputs": [],
   "source": [
    "# Remplacer toutes valeurs inférieur à 10 par 10\n",
    "clean_archive_data.rating_denominator = clean_archive_data.rating_denominator.replace( range(0,1000) , 10 )  "
   ]
  },
  {
   "cell_type": "markdown",
   "id": "449e77a8",
   "metadata": {},
   "source": [
    "#### Tester"
   ]
  },
  {
   "cell_type": "code",
   "execution_count": 172,
   "id": "65be5577",
   "metadata": {},
   "outputs": [
    {
     "data": {
      "text/plain": [
       "10    1994\n",
       "Name: rating_denominator, dtype: int64"
      ]
     },
     "execution_count": 172,
     "metadata": {},
     "output_type": "execute_result"
    }
   ],
   "source": [
    "# Afficher les valeurs de rating_denominator\n",
    "clean_archive_data.rating_denominator.value_counts()"
   ]
  },
  {
   "cell_type": "markdown",
   "id": "d14506c4",
   "metadata": {},
   "source": [
    "- **Quelques valeurs dans la colonne rating_numerator sont inférieures à 10.**\n",
    "- **Quelques valeurs dans la colonne rating_numerator sont égales à 0.**"
   ]
  },
  {
   "cell_type": "markdown",
   "id": "53a79e40",
   "metadata": {},
   "source": [
    "#### Définir"
   ]
  },
  {
   "cell_type": "markdown",
   "id": "7dff73ea",
   "metadata": {},
   "source": [
    "Ajouter 10 à toutes ces valeurs."
   ]
  },
  {
   "cell_type": "markdown",
   "id": "248cbc0b",
   "metadata": {},
   "source": [
    "#### Coder"
   ]
  },
  {
   "cell_type": "code",
   "execution_count": 173,
   "id": "04430385",
   "metadata": {},
   "outputs": [
    {
     "name": "stderr",
     "output_type": "stream",
     "text": [
      "C:\\Users\\Amen ANONWODJI\\AppData\\Local\\Temp\\ipykernel_14664\\3733616637.py:2: SettingWithCopyWarning: \n",
      "A value is trying to be set on a copy of a slice from a DataFrame\n",
      "\n",
      "See the caveats in the documentation: https://pandas.pydata.org/pandas-docs/stable/user_guide/indexing.html#returning-a-view-versus-a-copy\n",
      "  clean_archive_data.rating_numerator[clean_archive_data['rating_numerator'] <= 10 ] = clean_archive_data.rating_numerator[clean_archive_data['rating_numerator'] <= 10 ].add(10)\n"
     ]
    }
   ],
   "source": [
    "# Ajouter 10 à chacunes de ces valeurs \n",
    "clean_archive_data.rating_numerator[clean_archive_data['rating_numerator'] <= 10 ] = clean_archive_data.rating_numerator[clean_archive_data['rating_numerator'] <= 10 ].add(10)"
   ]
  },
  {
   "cell_type": "markdown",
   "id": "36ff9563",
   "metadata": {},
   "source": [
    "#### Tester"
   ]
  },
  {
   "cell_type": "code",
   "execution_count": 174,
   "id": "ca87183a",
   "metadata": {},
   "outputs": [
    {
     "data": {
      "text/plain": [
       "12      459\n",
       "20      419\n",
       "11      401\n",
       "13      280\n",
       "19      151\n",
       "18       95\n",
       "17       52\n",
       "14       51\n",
       "15       33\n",
       "16       32\n",
       "10        2\n",
       "60        1\n",
       "44        1\n",
       "143       1\n",
       "26        1\n",
       "121       1\n",
       "80        1\n",
       "144       1\n",
       "88        1\n",
       "45        1\n",
       "165       1\n",
       "99        1\n",
       "50        1\n",
       "204       1\n",
       "1776      1\n",
       "27        1\n",
       "75        1\n",
       "24        1\n",
       "84        1\n",
       "420       1\n",
       "Name: rating_numerator, dtype: int64"
      ]
     },
     "execution_count": 174,
     "metadata": {},
     "output_type": "execute_result"
    }
   ],
   "source": [
    "# Afficher les différentes valeurs de rating_numerator\n",
    "clean_archive_data.rating_numerator.value_counts()"
   ]
  },
  {
   "cell_type": "code",
   "execution_count": 175,
   "id": "9da323c2",
   "metadata": {},
   "outputs": [
    {
     "data": {
      "text/plain": [
       "20"
      ]
     },
     "execution_count": 175,
     "metadata": {},
     "output_type": "execute_result"
    }
   ],
   "source": [
    "clean_archive_data.query('rating_numerator <= 10 ').rating_numerator.sum()"
   ]
  },
  {
   "cell_type": "markdown",
   "id": "65ab868c",
   "metadata": {},
   "source": [
    "- **Les Valeurs nulles sont représentées par (None) dans la colonne name.**"
   ]
  },
  {
   "cell_type": "markdown",
   "id": "b2bee9d7",
   "metadata": {},
   "source": [
    "#### Définir"
   ]
  },
  {
   "cell_type": "markdown",
   "id": "c41422da",
   "metadata": {},
   "source": [
    "Remplacez ces valeurs par des valeurs nulles en utilisant la méthode de remplacement et la méthode numpy nan."
   ]
  },
  {
   "cell_type": "markdown",
   "id": "c5c52541",
   "metadata": {},
   "source": [
    "#### Coder"
   ]
  },
  {
   "cell_type": "code",
   "execution_count": 176,
   "id": "1176933b",
   "metadata": {},
   "outputs": [],
   "source": [
    "clean_archive_data.name = df_twitter_archive.name.replace(\"None\", value = np.nan )"
   ]
  },
  {
   "cell_type": "markdown",
   "id": "db12ea8f",
   "metadata": {},
   "source": [
    "#### Tester"
   ]
  },
  {
   "cell_type": "code",
   "execution_count": 177,
   "id": "e2951e4d",
   "metadata": {},
   "outputs": [
    {
     "data": {
      "text/plain": [
       "546"
      ]
     },
     "execution_count": 177,
     "metadata": {},
     "output_type": "execute_result"
    }
   ],
   "source": [
    "clean_archive_data.name.isnull().sum()"
   ]
  },
  {
   "cell_type": "markdown",
   "id": "d4ea7073",
   "metadata": {},
   "source": [
    "- **Certaines lettres en p commencent par une lettre majuscule tandis que d'autres sont en minuscule.**"
   ]
  },
  {
   "cell_type": "markdown",
   "id": "bd5332c1",
   "metadata": {},
   "source": [
    "#### Définir"
   ]
  },
  {
   "cell_type": "markdown",
   "id": "57650477",
   "metadata": {},
   "source": [
    "Convertir les lettres miniscules en majuscules."
   ]
  },
  {
   "cell_type": "markdown",
   "id": "0c402444",
   "metadata": {},
   "source": [
    "#### Coder"
   ]
  },
  {
   "cell_type": "code",
   "execution_count": 178,
   "id": "dbcc58b9",
   "metadata": {},
   "outputs": [],
   "source": [
    "# Conversion\n",
    "clean_archive_data.p1 = clean_archive_data.p1.str.replace('_', ' ')\n",
    "clean_archive_data.p2 = clean_archive_data.p2.str.replace('_', ' ')\n",
    "clean_archive_data.p3 = clean_archive_data.p3.str.replace('_', ' ')"
   ]
  },
  {
   "cell_type": "markdown",
   "id": "97cd98e7",
   "metadata": {},
   "source": [
    "#### Tester"
   ]
  },
  {
   "cell_type": "code",
   "execution_count": 179,
   "id": "dde1e855",
   "metadata": {},
   "outputs": [
    {
     "data": {
      "text/plain": [
       "0         orange\n",
       "1      Chihuahua\n",
       "2      Chihuahua\n",
       "3    paper towel\n",
       "4         basset\n",
       "Name: p1, dtype: object"
      ]
     },
     "execution_count": 179,
     "metadata": {},
     "output_type": "execute_result"
    }
   ],
   "source": [
    "clean_archive_data.p1.head(5)"
   ]
  },
  {
   "cell_type": "code",
   "execution_count": 180,
   "id": "9cdfec6f",
   "metadata": {},
   "outputs": [
    {
     "data": {
      "text/plain": [
       "0                 bagel\n",
       "1              Pekinese\n",
       "2              malamute\n",
       "3    Labrador retriever\n",
       "4      English springer\n",
       "Name: p2, dtype: object"
      ]
     },
     "execution_count": 180,
     "metadata": {},
     "output_type": "execute_result"
    }
   ],
   "source": [
    "clean_archive_data.p2.head(5)"
   ]
  },
  {
   "cell_type": "code",
   "execution_count": 181,
   "id": "35b99639",
   "metadata": {},
   "outputs": [
    {
     "data": {
      "text/plain": [
       "0                         banana\n",
       "1                       papillon\n",
       "2                         kelpie\n",
       "3                        spatula\n",
       "4    German short-haired pointer\n",
       "Name: p3, dtype: object"
      ]
     },
     "execution_count": 181,
     "metadata": {},
     "output_type": "execute_result"
    }
   ],
   "source": [
    "clean_archive_data.p3.head(5)"
   ]
  },
  {
   "cell_type": "markdown",
   "id": "3971ec9e",
   "metadata": {},
   "source": [
    "<a id='stocker'></a>\n",
    "## 5. Stockage de données"
   ]
  },
  {
   "cell_type": "code",
   "execution_count": 182,
   "id": "79d5f8ee",
   "metadata": {},
   "outputs": [],
   "source": [
    "# Enrégistrer sous format csv au nom de twitter_archive.csv\n",
    "clean_archive_data.to_csv('twitter_archive_master.csv')"
   ]
  },
  {
   "cell_type": "markdown",
   "id": "fc25193a",
   "metadata": {},
   "source": [
    "<a id='analyser'></a>\n",
    "## 6. Analyse de données et Visualisation"
   ]
  },
  {
   "cell_type": "markdown",
   "id": "c5dd4468",
   "metadata": {},
   "source": [
    "### A. Pourcentage des différentes espèces de chien"
   ]
  },
  {
   "cell_type": "code",
   "execution_count": 183,
   "id": "0c56e005",
   "metadata": {},
   "outputs": [
    {
     "data": {
      "text/plain": [
       "pupper     223\n",
       "doggo       72\n",
       "puppo       28\n",
       "floofer      3\n",
       "Name: dog_stage, dtype: int64"
      ]
     },
     "execution_count": 183,
     "metadata": {},
     "output_type": "execute_result"
    }
   ],
   "source": [
    "stage_df = clean_archive_data.dog_stage.value_counts()\n",
    "stage_df"
   ]
  },
  {
   "cell_type": "code",
   "execution_count": 184,
   "id": "afc2e35c",
   "metadata": {},
   "outputs": [],
   "source": [
    "# Importation de la librairie seaborn\n",
    "import seaborn as sns\n",
    "sns.set_theme()"
   ]
  },
  {
   "cell_type": "code",
   "execution_count": 185,
   "id": "4b5af320",
   "metadata": {},
   "outputs": [
    {
     "data": {
      "text/plain": [
       "(-1.1843354479570871,\n",
       " 1.4181703555081837,\n",
       " -1.3332815068549735,\n",
       " 1.2056899407062442)"
      ]
     },
     "execution_count": 185,
     "metadata": {},
     "output_type": "execute_result"
    },
    {
     "data": {
      "image/png": "[encoded data removed]",
      "text/plain": [
       "<Figure size 432x288 with 1 Axes>"
      ]
     },
     "metadata": {},
     "output_type": "display_data"
    }
   ],
   "source": [
    "# Diagramme circulaire \n",
    "plt.pie(stage_df,\n",
    "       labels = ['Pupper', 'Doggo', 'Puppo', 'Floofer'],\n",
    "       autopct = '%1.1f%%',\n",
    "       shadow = True,\n",
    "       explode = (0.1, 0.2, 0.2, 0.3))\n",
    "\n",
    "plt.title('Pourcentage des espèces de chien')\n",
    "plt.axis('equal')"
   ]
  },
  {
   "cell_type": "markdown",
   "id": "ec094554",
   "metadata": {},
   "source": [
    "- Pupper est l'espèce de chien la plus représentée (68.4%).\n",
    "- Floofer est l'espèce de chien la moins représentée (0.9%)."
   ]
  },
  {
   "cell_type": "code",
   "execution_count": 217,
   "id": "752cc0d2",
   "metadata": {},
   "outputs": [
    {
     "data": {
      "image/png": "[encoded data removed]",
      "text/plain": [
       "<Figure size 468x360 with 1 Axes>"
      ]
     },
     "metadata": {},
     "output_type": "display_data"
    }
   ],
   "source": [
    "# Diagramme en barre \n",
    "plt.figure(figsize=(6.5,5))\n",
    "plt.title(\"Nombre d'espèce de chien\", fontsize=14)\n",
    "plt.bar(x=clean_archive_data['dog_stage'].value_counts().index,\n",
    "        height=clean_archive_data.dog_stage.value_counts().values);"
   ]
  },
  {
   "cell_type": "markdown",
   "id": "caefd9f2",
   "metadata": {},
   "source": [
    "- D'après le diagramme en barre également représenté, on voit clairement que Pupper est la plus représenté. Par contre Floofer est la moins représenté."
   ]
  },
  {
   "cell_type": "markdown",
   "id": "94222689",
   "metadata": {},
   "source": [
    "### B. Distribution des colonnes numériques"
   ]
  },
  {
   "cell_type": "code",
   "execution_count": 216,
   "id": "acfd2065",
   "metadata": {},
   "outputs": [
    {
     "data": {
      "image/png": "[encoded data removed]",
      "text/plain": [
       "<Figure size 792x720 with 4 Axes>"
      ]
     },
     "metadata": {},
     "output_type": "display_data"
    }
   ],
   "source": [
    "# Découvrons les colonnes numériques plus facilement\n",
    "df_numeric = clean_archive_data[['retweet_count', 'favorite_count', 'img_num', 'rating_numerator']]\n",
    "df_numeric.hist(figsize = (11,10));"
   ]
  },
  {
   "cell_type": "markdown",
   "id": "6229c48e",
   "metadata": {},
   "source": [
    "- Toutes les variables numériques ont une distribution asymétrique à droite, ce qui signifie que les valeurs les plus faibles se sont produites le plus."
   ]
  },
  {
   "cell_type": "markdown",
   "id": "4c52b49c",
   "metadata": {},
   "source": [
    "### C. Relations et coefficient de corrélation entre les variables numériques."
   ]
  },
  {
   "cell_type": "code",
   "execution_count": 212,
   "id": "70e2ea49",
   "metadata": {},
   "outputs": [
    {
     "data": {
      "image/png": "[encoded data removed]",
      "text/plain": [
       "<Figure size 432x288 with 2 Axes>"
      ]
     },
     "metadata": {},
     "output_type": "display_data"
    }
   ],
   "source": [
    "# Tracez une carte thermique pour montrer la corrélation entre les variables numériques et utilisez une palette divergente.\n",
    "sns.heatmap(df_numeric.corr(), annot = True, fmt = '.4f', cmap = 'coolwarm', center = 0);\n",
    "plt.title('Corrélation entre les variables numériques');"
   ]
  },
  {
   "cell_type": "markdown",
   "id": "e4abb3ca",
   "metadata": {},
   "source": [
    "- La seule relation que nous pouvons mentionner ici est la forte corrélation positive entre le nombre de retweets et le nombre de favoris. et cela a du sens."
   ]
  },
  {
   "cell_type": "markdown",
   "id": "c87b9fd0",
   "metadata": {},
   "source": [
    "### D. Relation entre Retweet Count et Favorite Count"
   ]
  },
  {
   "cell_type": "code",
   "execution_count": 187,
   "id": "d587f2a2",
   "metadata": {},
   "outputs": [
    {
     "data": {
      "image/png": "[encoded data removed]",
      "text/plain": [
       "<Figure size 432x288 with 1 Axes>"
      ]
     },
     "metadata": {},
     "output_type": "display_data"
    }
   ],
   "source": [
    "# Nuage de point montrant la relation entre retweet count et favorite count\n",
    "plt.scatter(clean_archive_data.retweet_count, clean_archive_data.favorite_count)\n",
    "plt.title('Relation entre retweet count et favorite count')\n",
    "plt.xlabel('Retweet Count')\n",
    "plt.ylabel('Favorite Count');"
   ]
  },
  {
   "cell_type": "markdown",
   "id": "533d22e3",
   "metadata": {},
   "source": [
    "- Il y a donc une relation linéaire entre ces deux paramètres."
   ]
  },
  {
   "cell_type": "markdown",
   "id": "eed02e10",
   "metadata": {},
   "source": [
    "### E. L'impact du temps sur les retweets et les favoris compte."
   ]
  },
  {
   "cell_type": "code",
   "execution_count": 191,
   "id": "0ca3d715",
   "metadata": {},
   "outputs": [
    {
     "data": {
      "image/png": "[encoded data removed]",
      "text/plain": [
       "<Figure size 432x288 with 1 Axes>"
      ]
     },
     "metadata": {},
     "output_type": "display_data"
    }
   ],
   "source": [
    "# diagrammes de dispersion dans un graphique pour montrer la relation entre le nombre de retweets et de favoris au fil du temps.\n",
    "\n",
    "favorite = clean_archive_data.plot(kind='scatter', y='timestamp', x='favorite_count', color='blue')    \n",
    "retweet = clean_archive_data.plot(kind='scatter', y='timestamp', x='retweet_count', color='orange', ax=favorite)    \n",
    "\n",
    "#Titles and labels\n",
    "plt.title('Retweets et Favorite Count au fil du temps')\n",
    "plt.legend([\"Favorite\", \"Retweet\"]);"
   ]
  },
  {
   "cell_type": "markdown",
   "id": "fe96c7b7",
   "metadata": {},
   "source": [
    "- Le nombre de favoris est toujours supérieur au nombre de retweets.\n",
    "- Il y a une légère augmentation des favoris et des retweets au fil du temps.\n",
    "- Le plus grand nombre de retweets était d'environ 75 000 et c'était en juin 2016."
   ]
  }
 ],
 "metadata": {
  "kernelspec": {
   "display_name": "Python 3 (ipykernel)",
   "language": "python",
   "name": "python3"
  },
  "language_info": {
   "codemirror_mode": {
    "name": "ipython",
    "version": 3
   },
   "file_extension": ".py",
   "mimetype": "text/x-python",
   "name": "python",
   "nbconvert_exporter": "python",
   "pygments_lexer": "ipython3",
   "version": "3.9.12"
  }
 },
 "nbformat": 4,
 "nbformat_minor": 5
}
