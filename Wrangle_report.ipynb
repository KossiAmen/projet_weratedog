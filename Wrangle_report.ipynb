{
 "cells": [
  {
   "cell_type": "markdown",
   "metadata": {},
   "source": [
    "# Rapport décrivant nos efforts de Traitement de données"
   ]
  },
  {
   "cell_type": "markdown",
   "metadata": {},
   "source": [
    "Dans le cadre de ce projet, nous allons travailler sur les archives de Twitter de WeRateDogs contenant des données de base sur 5000 tweets, les données supplémentaires collectées à partir de l'API Twitter et les fichiers de prédictions d'images.\n",
    "Après rassemblage et évaluation (visuelle et programmatique), nous avions recensé les problèmes de structures (d'ordre) et de qualités suivants :"
   ]
  },
  {
   "cell_type": "markdown",
   "metadata": {},
   "source": [
    "## 1. Problèmes de structures"
   ]
  },
  {
   "cell_type": "markdown",
   "metadata": {},
   "source": [
    "- Les noms des espéces de chiens (doggo, floofer, pupper, puppo) sont séparés en quatre (04) colonnes différentes.\n",
    "- Toutes ces bases de données sont liées mais séparées en trois (03) bases de données distinctes."
   ]
  },
  {
   "cell_type": "markdown",
   "metadata": {},
   "source": [
    "## 2. Problèmes de qualités"
   ]
  },
  {
   "cell_type": "markdown",
   "metadata": {},
   "source": [
    "### A. Base des Archives Améliorées de Twitter"
   ]
  },
  {
   "cell_type": "markdown",
   "metadata": {},
   "source": [
    "- Il y a 181 retweets comme indique retweeted_status_id.\n",
    "- Le type de tweet_id doit être une chaîne au lieu d'un entier.\n",
    "- Timestamp devrait être sous format date (datetime).\n",
    "- Certains identifiants des chiens ont des photos manquantes.\n",
    "- Certaines valeurs (440) dans la colonne rating_denominator ne sont pas 10.\n",
    "- Quelques valeurs dans la colonne rating_numerator sont inférieures à 10.\n",
    "- Quelques valeurs dans la colonne rating_numerator sont égales à zéro\n",
    "- retweeted_status_timestamp doit être supprimé car nous nous intéressons au tweet.\n",
    "- Les Valeurs nulles sont représentées par (None) dans la colonne name.\n",
    "- certaines des lignes expand_urls ont 2 URL et nous avons juste besoin d'un lien tweeter.\n",
    "- 59 valeurs manquantes dans la colonne expanded_urls."
   ]
  },
  {
   "cell_type": "markdown",
   "metadata": {},
   "source": [
    "### B. Base des Tweets de Prédictions d'Image"
   ]
  },
  {
   "cell_type": "markdown",
   "metadata": {},
   "source": [
    "- Certaines lettres en p commencent par une lettre majuscule tandis que d'autres sont en minuscule.\n",
    "- tweet_id doit être une chaine de caractère et non un entier."
   ]
  },
  {
   "cell_type": "markdown",
   "metadata": {},
   "source": [
    "### C. Base des Tweets via l'API de Tweeter"
   ]
  },
  {
   "cell_type": "markdown",
   "metadata": {},
   "source": [
    "- Le nom des identifiants des colonnes doit être tweet_id au lieu de id.\n",
    "- tweet_id doit être une chaîne et non un entier."
   ]
  }
 ],
 "metadata": {
  "kernelspec": {
   "display_name": "Python 3 (ipykernel)",
   "language": "python",
   "name": "python3"
  },
  "language_info": {
   "codemirror_mode": {
    "name": "ipython",
    "version": 3
   },
   "file_extension": ".py",
   "mimetype": "text/x-python",
   "name": "python",
   "nbconvert_exporter": "python",
   "pygments_lexer": "ipython3",
   "version": "3.9.12"
  }
 },
 "nbformat": 4,
 "nbformat_minor": 2
}
